{
 "cells": [
  {
   "cell_type": "code",
   "execution_count": null,
   "metadata": {
    "colab": {
     "base_uri": "https://localhost:8080/"
    },
    "id": "5yZxSh4w9eEA",
    "outputId": "353b9949-3a4b-45d7-ab03-a39314e0cbb3"
   },
   "outputs": [
    {
     "name": "stdout",
     "output_type": "stream",
     "text": [
      "Collecting wikipedia\n",
      "  Downloading wikipedia-1.4.0.tar.gz (27 kB)\n",
      "  Preparing metadata (setup.py) ... \u001b[?25l\u001b[?25hdone\n",
      "Collecting wikipedia-api\n",
      "  Downloading wikipedia_api-0.7.1.tar.gz (17 kB)\n",
      "  Preparing metadata (setup.py) ... \u001b[?25l\u001b[?25hdone\n",
      "Requirement already satisfied: beautifulsoup4 in /usr/local/lib/python3.10/dist-packages (from wikipedia) (4.12.3)\n",
      "Requirement already satisfied: requests<3.0.0,>=2.0.0 in /usr/local/lib/python3.10/dist-packages (from wikipedia) (2.32.3)\n",
      "Requirement already satisfied: charset-normalizer<4,>=2 in /usr/local/lib/python3.10/dist-packages (from requests<3.0.0,>=2.0.0->wikipedia) (3.4.0)\n",
      "Requirement already satisfied: idna<4,>=2.5 in /usr/local/lib/python3.10/dist-packages (from requests<3.0.0,>=2.0.0->wikipedia) (3.10)\n",
      "Requirement already satisfied: urllib3<3,>=1.21.1 in /usr/local/lib/python3.10/dist-packages (from requests<3.0.0,>=2.0.0->wikipedia) (2.2.3)\n",
      "Requirement already satisfied: certifi>=2017.4.17 in /usr/local/lib/python3.10/dist-packages (from requests<3.0.0,>=2.0.0->wikipedia) (2024.8.30)\n",
      "Requirement already satisfied: soupsieve>1.2 in /usr/local/lib/python3.10/dist-packages (from beautifulsoup4->wikipedia) (2.6)\n",
      "Building wheels for collected packages: wikipedia, wikipedia-api\n",
      "  Building wheel for wikipedia (setup.py) ... \u001b[?25l\u001b[?25hdone\n",
      "  Created wheel for wikipedia: filename=wikipedia-1.4.0-py3-none-any.whl size=11679 sha256=d169b1963e73705db3da5e2fff432ed3eafe1b140a340a2526bf6d3ee1fced93\n",
      "  Stored in directory: /root/.cache/pip/wheels/5e/b6/c5/93f3dec388ae76edc830cb42901bb0232504dfc0df02fc50de\n",
      "  Building wheel for wikipedia-api (setup.py) ... \u001b[?25l\u001b[?25hdone\n",
      "  Created wheel for wikipedia-api: filename=Wikipedia_API-0.7.1-py3-none-any.whl size=14346 sha256=e4c817b38add28c216da5ab42c985d5997da658a2ddfcdb9389fc46819c3f8ea\n",
      "  Stored in directory: /root/.cache/pip/wheels/4c/96/18/b9201cc3e8b47b02b510460210cfd832ccf10c0c4dd0522962\n",
      "Successfully built wikipedia wikipedia-api\n",
      "Installing collected packages: wikipedia-api, wikipedia\n",
      "Successfully installed wikipedia-1.4.0 wikipedia-api-0.7.1\n",
      "Collecting langchain\n",
      "  Downloading langchain-0.3.4-py3-none-any.whl.metadata (7.1 kB)\n",
      "Collecting langchain-community\n",
      "  Downloading langchain_community-0.3.3-py3-none-any.whl.metadata (2.8 kB)\n",
      "Collecting langchain-huggingface\n",
      "  Downloading langchain_huggingface-0.1.0-py3-none-any.whl.metadata (1.3 kB)\n",
      "Requirement already satisfied: PyYAML>=5.3 in /usr/local/lib/python3.10/dist-packages (from langchain) (6.0.2)\n",
      "Requirement already satisfied: SQLAlchemy<3,>=1.4 in /usr/local/lib/python3.10/dist-packages (from langchain) (2.0.35)\n",
      "Requirement already satisfied: aiohttp<4.0.0,>=3.8.3 in /usr/local/lib/python3.10/dist-packages (from langchain) (3.10.10)\n",
      "Requirement already satisfied: async-timeout<5.0.0,>=4.0.0 in /usr/local/lib/python3.10/dist-packages (from langchain) (4.0.3)\n",
      "Collecting langchain-core<0.4.0,>=0.3.12 (from langchain)\n",
      "  Downloading langchain_core-0.3.12-py3-none-any.whl.metadata (6.3 kB)\n",
      "Collecting langchain-text-splitters<0.4.0,>=0.3.0 (from langchain)\n",
      "  Downloading langchain_text_splitters-0.3.0-py3-none-any.whl.metadata (2.3 kB)\n",
      "Collecting langsmith<0.2.0,>=0.1.17 (from langchain)\n",
      "  Downloading langsmith-0.1.136-py3-none-any.whl.metadata (13 kB)\n",
      "Requirement already satisfied: numpy<2,>=1 in /usr/local/lib/python3.10/dist-packages (from langchain) (1.26.4)\n",
      "Requirement already satisfied: pydantic<3.0.0,>=2.7.4 in /usr/local/lib/python3.10/dist-packages (from langchain) (2.9.2)\n",
      "Requirement already satisfied: requests<3,>=2 in /usr/local/lib/python3.10/dist-packages (from langchain) (2.32.3)\n",
      "Requirement already satisfied: tenacity!=8.4.0,<10,>=8.1.0 in /usr/local/lib/python3.10/dist-packages (from langchain) (9.0.0)\n",
      "Collecting dataclasses-json<0.7,>=0.5.7 (from langchain-community)\n",
      "  Downloading dataclasses_json-0.6.7-py3-none-any.whl.metadata (25 kB)\n",
      "Collecting pydantic-settings<3.0.0,>=2.4.0 (from langchain-community)\n",
      "  Downloading pydantic_settings-2.6.0-py3-none-any.whl.metadata (3.5 kB)\n",
      "Requirement already satisfied: huggingface-hub>=0.23.0 in /usr/local/lib/python3.10/dist-packages (from langchain-huggingface) (0.24.7)\n",
      "Collecting sentence-transformers>=2.6.0 (from langchain-huggingface)\n",
      "  Downloading sentence_transformers-3.2.1-py3-none-any.whl.metadata (10 kB)\n",
      "Requirement already satisfied: tokenizers>=0.19.1 in /usr/local/lib/python3.10/dist-packages (from langchain-huggingface) (0.19.1)\n",
      "Requirement already satisfied: transformers>=4.39.0 in /usr/local/lib/python3.10/dist-packages (from langchain-huggingface) (4.44.2)\n",
      "Requirement already satisfied: aiohappyeyeballs>=2.3.0 in /usr/local/lib/python3.10/dist-packages (from aiohttp<4.0.0,>=3.8.3->langchain) (2.4.3)\n",
      "Requirement already satisfied: aiosignal>=1.1.2 in /usr/local/lib/python3.10/dist-packages (from aiohttp<4.0.0,>=3.8.3->langchain) (1.3.1)\n",
      "Requirement already satisfied: attrs>=17.3.0 in /usr/local/lib/python3.10/dist-packages (from aiohttp<4.0.0,>=3.8.3->langchain) (24.2.0)\n",
      "Requirement already satisfied: frozenlist>=1.1.1 in /usr/local/lib/python3.10/dist-packages (from aiohttp<4.0.0,>=3.8.3->langchain) (1.4.1)\n",
      "Requirement already satisfied: multidict<7.0,>=4.5 in /usr/local/lib/python3.10/dist-packages (from aiohttp<4.0.0,>=3.8.3->langchain) (6.1.0)\n",
      "Requirement already satisfied: yarl<2.0,>=1.12.0 in /usr/local/lib/python3.10/dist-packages (from aiohttp<4.0.0,>=3.8.3->langchain) (1.15.2)\n",
      "Collecting marshmallow<4.0.0,>=3.18.0 (from dataclasses-json<0.7,>=0.5.7->langchain-community)\n",
      "  Downloading marshmallow-3.23.0-py3-none-any.whl.metadata (7.6 kB)\n",
      "Collecting typing-inspect<1,>=0.4.0 (from dataclasses-json<0.7,>=0.5.7->langchain-community)\n",
      "  Downloading typing_inspect-0.9.0-py3-none-any.whl.metadata (1.5 kB)\n",
      "Requirement already satisfied: filelock in /usr/local/lib/python3.10/dist-packages (from huggingface-hub>=0.23.0->langchain-huggingface) (3.16.1)\n",
      "Requirement already satisfied: fsspec>=2023.5.0 in /usr/local/lib/python3.10/dist-packages (from huggingface-hub>=0.23.0->langchain-huggingface) (2024.6.1)\n",
      "Requirement already satisfied: packaging>=20.9 in /usr/local/lib/python3.10/dist-packages (from huggingface-hub>=0.23.0->langchain-huggingface) (24.1)\n",
      "Requirement already satisfied: tqdm>=4.42.1 in /usr/local/lib/python3.10/dist-packages (from huggingface-hub>=0.23.0->langchain-huggingface) (4.66.5)\n",
      "Requirement already satisfied: typing-extensions>=3.7.4.3 in /usr/local/lib/python3.10/dist-packages (from huggingface-hub>=0.23.0->langchain-huggingface) (4.12.2)\n",
      "Collecting jsonpatch<2.0,>=1.33 (from langchain-core<0.4.0,>=0.3.12->langchain)\n",
      "  Downloading jsonpatch-1.33-py2.py3-none-any.whl.metadata (3.0 kB)\n",
      "Collecting httpx<1,>=0.23.0 (from langsmith<0.2.0,>=0.1.17->langchain)\n",
      "  Downloading httpx-0.27.2-py3-none-any.whl.metadata (7.1 kB)\n",
      "Collecting orjson<4.0.0,>=3.9.14 (from langsmith<0.2.0,>=0.1.17->langchain)\n",
      "  Downloading orjson-3.10.9-cp310-cp310-manylinux_2_17_x86_64.manylinux2014_x86_64.whl.metadata (50 kB)\n",
      "\u001b[2K     \u001b[90m━━━━━━━━━━━━━━━━━━━━━━━━━━━━━━━━━━━━━━━━\u001b[0m \u001b[32m50.6/50.6 kB\u001b[0m \u001b[31m4.1 MB/s\u001b[0m eta \u001b[36m0:00:00\u001b[0m\n",
      "\u001b[?25hCollecting requests-toolbelt<2.0.0,>=1.0.0 (from langsmith<0.2.0,>=0.1.17->langchain)\n",
      "  Downloading requests_toolbelt-1.0.0-py2.py3-none-any.whl.metadata (14 kB)\n",
      "Requirement already satisfied: annotated-types>=0.6.0 in /usr/local/lib/python3.10/dist-packages (from pydantic<3.0.0,>=2.7.4->langchain) (0.7.0)\n",
      "Requirement already satisfied: pydantic-core==2.23.4 in /usr/local/lib/python3.10/dist-packages (from pydantic<3.0.0,>=2.7.4->langchain) (2.23.4)\n",
      "Collecting python-dotenv>=0.21.0 (from pydantic-settings<3.0.0,>=2.4.0->langchain-community)\n",
      "  Downloading python_dotenv-1.0.1-py3-none-any.whl.metadata (23 kB)\n",
      "Requirement already satisfied: charset-normalizer<4,>=2 in /usr/local/lib/python3.10/dist-packages (from requests<3,>=2->langchain) (3.4.0)\n",
      "Requirement already satisfied: idna<4,>=2.5 in /usr/local/lib/python3.10/dist-packages (from requests<3,>=2->langchain) (3.10)\n",
      "Requirement already satisfied: urllib3<3,>=1.21.1 in /usr/local/lib/python3.10/dist-packages (from requests<3,>=2->langchain) (2.2.3)\n",
      "Requirement already satisfied: certifi>=2017.4.17 in /usr/local/lib/python3.10/dist-packages (from requests<3,>=2->langchain) (2024.8.30)\n",
      "Requirement already satisfied: torch>=1.11.0 in /usr/local/lib/python3.10/dist-packages (from sentence-transformers>=2.6.0->langchain-huggingface) (2.4.1+cu121)\n",
      "Requirement already satisfied: scikit-learn in /usr/local/lib/python3.10/dist-packages (from sentence-transformers>=2.6.0->langchain-huggingface) (1.5.2)\n",
      "Requirement already satisfied: scipy in /usr/local/lib/python3.10/dist-packages (from sentence-transformers>=2.6.0->langchain-huggingface) (1.13.1)\n",
      "Requirement already satisfied: Pillow in /usr/local/lib/python3.10/dist-packages (from sentence-transformers>=2.6.0->langchain-huggingface) (10.4.0)\n",
      "Requirement already satisfied: greenlet!=0.4.17 in /usr/local/lib/python3.10/dist-packages (from SQLAlchemy<3,>=1.4->langchain) (3.1.1)\n",
      "Requirement already satisfied: regex!=2019.12.17 in /usr/local/lib/python3.10/dist-packages (from transformers>=4.39.0->langchain-huggingface) (2024.9.11)\n",
      "Requirement already satisfied: safetensors>=0.4.1 in /usr/local/lib/python3.10/dist-packages (from transformers>=4.39.0->langchain-huggingface) (0.4.5)\n",
      "Requirement already satisfied: anyio in /usr/local/lib/python3.10/dist-packages (from httpx<1,>=0.23.0->langsmith<0.2.0,>=0.1.17->langchain) (3.7.1)\n",
      "Collecting httpcore==1.* (from httpx<1,>=0.23.0->langsmith<0.2.0,>=0.1.17->langchain)\n",
      "  Downloading httpcore-1.0.6-py3-none-any.whl.metadata (21 kB)\n",
      "Requirement already satisfied: sniffio in /usr/local/lib/python3.10/dist-packages (from httpx<1,>=0.23.0->langsmith<0.2.0,>=0.1.17->langchain) (1.3.1)\n",
      "Collecting h11<0.15,>=0.13 (from httpcore==1.*->httpx<1,>=0.23.0->langsmith<0.2.0,>=0.1.17->langchain)\n",
      "  Downloading h11-0.14.0-py3-none-any.whl.metadata (8.2 kB)\n",
      "Collecting jsonpointer>=1.9 (from jsonpatch<2.0,>=1.33->langchain-core<0.4.0,>=0.3.12->langchain)\n",
      "  Downloading jsonpointer-3.0.0-py2.py3-none-any.whl.metadata (2.3 kB)\n",
      "Requirement already satisfied: sympy in /usr/local/lib/python3.10/dist-packages (from torch>=1.11.0->sentence-transformers>=2.6.0->langchain-huggingface) (1.13.3)\n",
      "Requirement already satisfied: networkx in /usr/local/lib/python3.10/dist-packages (from torch>=1.11.0->sentence-transformers>=2.6.0->langchain-huggingface) (3.4.1)\n",
      "Requirement already satisfied: jinja2 in /usr/local/lib/python3.10/dist-packages (from torch>=1.11.0->sentence-transformers>=2.6.0->langchain-huggingface) (3.1.4)\n",
      "Collecting mypy-extensions>=0.3.0 (from typing-inspect<1,>=0.4.0->dataclasses-json<0.7,>=0.5.7->langchain-community)\n",
      "  Downloading mypy_extensions-1.0.0-py3-none-any.whl.metadata (1.1 kB)\n",
      "Requirement already satisfied: propcache>=0.2.0 in /usr/local/lib/python3.10/dist-packages (from yarl<2.0,>=1.12.0->aiohttp<4.0.0,>=3.8.3->langchain) (0.2.0)\n",
      "Requirement already satisfied: joblib>=1.2.0 in /usr/local/lib/python3.10/dist-packages (from scikit-learn->sentence-transformers>=2.6.0->langchain-huggingface) (1.4.2)\n",
      "Requirement already satisfied: threadpoolctl>=3.1.0 in /usr/local/lib/python3.10/dist-packages (from scikit-learn->sentence-transformers>=2.6.0->langchain-huggingface) (3.5.0)\n",
      "Requirement already satisfied: exceptiongroup in /usr/local/lib/python3.10/dist-packages (from anyio->httpx<1,>=0.23.0->langsmith<0.2.0,>=0.1.17->langchain) (1.2.2)\n",
      "Requirement already satisfied: MarkupSafe>=2.0 in /usr/local/lib/python3.10/dist-packages (from jinja2->torch>=1.11.0->sentence-transformers>=2.6.0->langchain-huggingface) (3.0.1)\n",
      "Requirement already satisfied: mpmath<1.4,>=1.1.0 in /usr/local/lib/python3.10/dist-packages (from sympy->torch>=1.11.0->sentence-transformers>=2.6.0->langchain-huggingface) (1.3.0)\n",
      "Downloading langchain-0.3.4-py3-none-any.whl (1.0 MB)\n",
      "\u001b[2K   \u001b[90m━━━━━━━━━━━━━━━━━━━━━━━━━━━━━━━━━━━━━━━━\u001b[0m \u001b[32m1.0/1.0 MB\u001b[0m \u001b[31m44.8 MB/s\u001b[0m eta \u001b[36m0:00:00\u001b[0m\n",
      "\u001b[?25hDownloading langchain_community-0.3.3-py3-none-any.whl (2.4 MB)\n",
      "\u001b[2K   \u001b[90m━━━━━━━━━━━━━━━━━━━━━━━━━━━━━━━━━━━━━━━━\u001b[0m \u001b[32m2.4/2.4 MB\u001b[0m \u001b[31m67.7 MB/s\u001b[0m eta \u001b[36m0:00:00\u001b[0m\n",
      "\u001b[?25hDownloading langchain_huggingface-0.1.0-py3-none-any.whl (20 kB)\n",
      "Downloading dataclasses_json-0.6.7-py3-none-any.whl (28 kB)\n",
      "Downloading langchain_core-0.3.12-py3-none-any.whl (407 kB)\n",
      "\u001b[2K   \u001b[90m━━━━━━━━━━━━━━━━━━━━━━━━━━━━━━━━━━━━━━━━\u001b[0m \u001b[32m407.7/407.7 kB\u001b[0m \u001b[31m35.6 MB/s\u001b[0m eta \u001b[36m0:00:00\u001b[0m\n",
      "\u001b[?25hDownloading langchain_text_splitters-0.3.0-py3-none-any.whl (25 kB)\n",
      "Downloading langsmith-0.1.136-py3-none-any.whl (296 kB)\n",
      "\u001b[2K   \u001b[90m━━━━━━━━━━━━━━━━━━━━━━━━━━━━━━━━━━━━━━━━\u001b[0m \u001b[32m296.7/296.7 kB\u001b[0m \u001b[31m30.3 MB/s\u001b[0m eta \u001b[36m0:00:00\u001b[0m\n",
      "\u001b[?25hDownloading pydantic_settings-2.6.0-py3-none-any.whl (28 kB)\n",
      "Downloading sentence_transformers-3.2.1-py3-none-any.whl (255 kB)\n",
      "\u001b[2K   \u001b[90m━━━━━━━━━━━━━━━━━━━━━━━━━━━━━━━━━━━━━━━━\u001b[0m \u001b[32m255.8/255.8 kB\u001b[0m \u001b[31m21.7 MB/s\u001b[0m eta \u001b[36m0:00:00\u001b[0m\n",
      "\u001b[?25hDownloading httpx-0.27.2-py3-none-any.whl (76 kB)\n",
      "\u001b[2K   \u001b[90m━━━━━━━━━━━━━━━━━━━━━━━━━━━━━━━━━━━━━━━━\u001b[0m \u001b[32m76.4/76.4 kB\u001b[0m \u001b[31m8.5 MB/s\u001b[0m eta \u001b[36m0:00:00\u001b[0m\n",
      "\u001b[?25hDownloading httpcore-1.0.6-py3-none-any.whl (78 kB)\n",
      "\u001b[2K   \u001b[90m━━━━━━━━━━━━━━━━━━━━━━━━━━━━━━━━━━━━━━━━\u001b[0m \u001b[32m78.0/78.0 kB\u001b[0m \u001b[31m8.7 MB/s\u001b[0m eta \u001b[36m0:00:00\u001b[0m\n",
      "\u001b[?25hDownloading jsonpatch-1.33-py2.py3-none-any.whl (12 kB)\n",
      "Downloading marshmallow-3.23.0-py3-none-any.whl (49 kB)\n",
      "\u001b[2K   \u001b[90m━━━━━━━━━━━━━━━━━━━━━━━━━━━━━━━━━━━━━━━━\u001b[0m \u001b[32m49.5/49.5 kB\u001b[0m \u001b[31m5.2 MB/s\u001b[0m eta \u001b[36m0:00:00\u001b[0m\n",
      "\u001b[?25hDownloading orjson-3.10.9-cp310-cp310-manylinux_2_17_x86_64.manylinux2014_x86_64.whl (144 kB)\n",
      "\u001b[2K   \u001b[90m━━━━━━━━━━━━━━━━━━━━━━━━━━━━━━━━━━━━━━━━\u001b[0m \u001b[32m144.5/144.5 kB\u001b[0m \u001b[31m15.4 MB/s\u001b[0m eta \u001b[36m0:00:00\u001b[0m\n",
      "\u001b[?25hDownloading python_dotenv-1.0.1-py3-none-any.whl (19 kB)\n",
      "Downloading requests_toolbelt-1.0.0-py2.py3-none-any.whl (54 kB)\n",
      "\u001b[2K   \u001b[90m━━━━━━━━━━━━━━━━━━━━━━━━━━━━━━━━━━━━━━━━\u001b[0m \u001b[32m54.5/54.5 kB\u001b[0m \u001b[31m5.5 MB/s\u001b[0m eta \u001b[36m0:00:00\u001b[0m\n",
      "\u001b[?25hDownloading typing_inspect-0.9.0-py3-none-any.whl (8.8 kB)\n",
      "Downloading jsonpointer-3.0.0-py2.py3-none-any.whl (7.6 kB)\n",
      "Downloading mypy_extensions-1.0.0-py3-none-any.whl (4.7 kB)\n",
      "Downloading h11-0.14.0-py3-none-any.whl (58 kB)\n",
      "\u001b[2K   \u001b[90m━━━━━━━━━━━━━━━━━━━━━━━━━━━━━━━━━━━━━━━━\u001b[0m \u001b[32m58.3/58.3 kB\u001b[0m \u001b[31m5.9 MB/s\u001b[0m eta \u001b[36m0:00:00\u001b[0m\n",
      "\u001b[?25hInstalling collected packages: python-dotenv, orjson, mypy-extensions, marshmallow, jsonpointer, h11, typing-inspect, requests-toolbelt, jsonpatch, httpcore, pydantic-settings, httpx, dataclasses-json, langsmith, sentence-transformers, langchain-core, langchain-text-splitters, langchain-huggingface, langchain, langchain-community\n",
      "Successfully installed dataclasses-json-0.6.7 h11-0.14.0 httpcore-1.0.6 httpx-0.27.2 jsonpatch-1.33 jsonpointer-3.0.0 langchain-0.3.4 langchain-community-0.3.3 langchain-core-0.3.12 langchain-huggingface-0.1.0 langchain-text-splitters-0.3.0 langsmith-0.1.136 marshmallow-3.23.0 mypy-extensions-1.0.0 orjson-3.10.9 pydantic-settings-2.6.0 python-dotenv-1.0.1 requests-toolbelt-1.0.0 sentence-transformers-3.2.1 typing-inspect-0.9.0\n",
      "Collecting faiss-cpu\n",
      "  Downloading faiss_cpu-1.9.0-cp310-cp310-manylinux_2_17_x86_64.manylinux2014_x86_64.whl.metadata (4.4 kB)\n",
      "Collecting faiss-gpu\n",
      "  Downloading faiss_gpu-1.7.2-cp310-cp310-manylinux_2_17_x86_64.manylinux2014_x86_64.whl.metadata (1.4 kB)\n",
      "Requirement already satisfied: numpy<3.0,>=1.25.0 in /usr/local/lib/python3.10/dist-packages (from faiss-cpu) (1.26.4)\n",
      "Requirement already satisfied: packaging in /usr/local/lib/python3.10/dist-packages (from faiss-cpu) (24.1)\n",
      "Downloading faiss_cpu-1.9.0-cp310-cp310-manylinux_2_17_x86_64.manylinux2014_x86_64.whl (27.5 MB)\n",
      "\u001b[2K   \u001b[90m━━━━━━━━━━━━━━━━━━━━━━━━━━━━━━━━━━━━━━━━\u001b[0m \u001b[32m27.5/27.5 MB\u001b[0m \u001b[31m18.7 MB/s\u001b[0m eta \u001b[36m0:00:00\u001b[0m\n",
      "\u001b[?25hDownloading faiss_gpu-1.7.2-cp310-cp310-manylinux_2_17_x86_64.manylinux2014_x86_64.whl (85.5 MB)\n",
      "\u001b[2K   \u001b[90m━━━━━━━━━━━━━━━━━━━━━━━━━━━━━━━━━━━━━━━━\u001b[0m \u001b[32m85.5/85.5 MB\u001b[0m \u001b[31m8.5 MB/s\u001b[0m eta \u001b[36m0:00:00\u001b[0m\n",
      "\u001b[?25hInstalling collected packages: faiss-gpu, faiss-cpu\n",
      "Successfully installed faiss-cpu-1.9.0 faiss-gpu-1.7.2\n",
      "Requirement already satisfied: transformers in /usr/local/lib/python3.10/dist-packages (4.44.2)\n",
      "Collecting transformers\n",
      "  Downloading transformers-4.45.2-py3-none-any.whl.metadata (44 kB)\n",
      "\u001b[2K     \u001b[90m━━━━━━━━━━━━━━━━━━━━━━━━━━━━━━━━━━━━━━━━\u001b[0m \u001b[32m44.4/44.4 kB\u001b[0m \u001b[31m3.8 MB/s\u001b[0m eta \u001b[36m0:00:00\u001b[0m\n",
      "\u001b[?25hRequirement already satisfied: filelock in /usr/local/lib/python3.10/dist-packages (from transformers) (3.16.1)\n",
      "Requirement already satisfied: huggingface-hub<1.0,>=0.23.2 in /usr/local/lib/python3.10/dist-packages (from transformers) (0.24.7)\n",
      "Requirement already satisfied: numpy>=1.17 in /usr/local/lib/python3.10/dist-packages (from transformers) (1.26.4)\n",
      "Requirement already satisfied: packaging>=20.0 in /usr/local/lib/python3.10/dist-packages (from transformers) (24.1)\n",
      "Requirement already satisfied: pyyaml>=5.1 in /usr/local/lib/python3.10/dist-packages (from transformers) (6.0.2)\n",
      "Requirement already satisfied: regex!=2019.12.17 in /usr/local/lib/python3.10/dist-packages (from transformers) (2024.9.11)\n",
      "Requirement already satisfied: requests in /usr/local/lib/python3.10/dist-packages (from transformers) (2.32.3)\n",
      "Requirement already satisfied: safetensors>=0.4.1 in /usr/local/lib/python3.10/dist-packages (from transformers) (0.4.5)\n",
      "Collecting tokenizers<0.21,>=0.20 (from transformers)\n",
      "  Downloading tokenizers-0.20.1-cp310-cp310-manylinux_2_17_x86_64.manylinux2014_x86_64.whl.metadata (6.7 kB)\n",
      "Requirement already satisfied: tqdm>=4.27 in /usr/local/lib/python3.10/dist-packages (from transformers) (4.66.5)\n",
      "Requirement already satisfied: fsspec>=2023.5.0 in /usr/local/lib/python3.10/dist-packages (from huggingface-hub<1.0,>=0.23.2->transformers) (2024.6.1)\n",
      "Requirement already satisfied: typing-extensions>=3.7.4.3 in /usr/local/lib/python3.10/dist-packages (from huggingface-hub<1.0,>=0.23.2->transformers) (4.12.2)\n",
      "Requirement already satisfied: charset-normalizer<4,>=2 in /usr/local/lib/python3.10/dist-packages (from requests->transformers) (3.4.0)\n",
      "Requirement already satisfied: idna<4,>=2.5 in /usr/local/lib/python3.10/dist-packages (from requests->transformers) (3.10)\n",
      "Requirement already satisfied: urllib3<3,>=1.21.1 in /usr/local/lib/python3.10/dist-packages (from requests->transformers) (2.2.3)\n",
      "Requirement already satisfied: certifi>=2017.4.17 in /usr/local/lib/python3.10/dist-packages (from requests->transformers) (2024.8.30)\n",
      "Downloading transformers-4.45.2-py3-none-any.whl (9.9 MB)\n",
      "\u001b[2K   \u001b[90m━━━━━━━━━━━━━━━━━━━━━━━━━━━━━━━━━━━━━━━━\u001b[0m \u001b[32m9.9/9.9 MB\u001b[0m \u001b[31m109.4 MB/s\u001b[0m eta \u001b[36m0:00:00\u001b[0m\n",
      "\u001b[?25hDownloading tokenizers-0.20.1-cp310-cp310-manylinux_2_17_x86_64.manylinux2014_x86_64.whl (3.0 MB)\n",
      "\u001b[2K   \u001b[90m━━━━━━━━━━━━━━━━━━━━━━━━━━━━━━━━━━━━━━━━\u001b[0m \u001b[32m3.0/3.0 MB\u001b[0m \u001b[31m91.5 MB/s\u001b[0m eta \u001b[36m0:00:00\u001b[0m\n",
      "\u001b[?25hInstalling collected packages: tokenizers, transformers\n",
      "  Attempting uninstall: tokenizers\n",
      "    Found existing installation: tokenizers 0.19.1\n",
      "    Uninstalling tokenizers-0.19.1:\n",
      "      Successfully uninstalled tokenizers-0.19.1\n",
      "  Attempting uninstall: transformers\n",
      "    Found existing installation: transformers 4.44.2\n",
      "    Uninstalling transformers-4.44.2:\n",
      "      Successfully uninstalled transformers-4.44.2\n",
      "Successfully installed tokenizers-0.20.1 transformers-4.45.2\n",
      "Requirement already satisfied: torch in /usr/local/lib/python3.10/dist-packages (2.4.1+cu121)\n",
      "Requirement already satisfied: filelock in /usr/local/lib/python3.10/dist-packages (from torch) (3.16.1)\n",
      "Requirement already satisfied: typing-extensions>=4.8.0 in /usr/local/lib/python3.10/dist-packages (from torch) (4.12.2)\n",
      "Requirement already satisfied: sympy in /usr/local/lib/python3.10/dist-packages (from torch) (1.13.3)\n",
      "Requirement already satisfied: networkx in /usr/local/lib/python3.10/dist-packages (from torch) (3.4.1)\n",
      "Requirement already satisfied: jinja2 in /usr/local/lib/python3.10/dist-packages (from torch) (3.1.4)\n",
      "Requirement already satisfied: fsspec in /usr/local/lib/python3.10/dist-packages (from torch) (2024.6.1)\n",
      "Requirement already satisfied: MarkupSafe>=2.0 in /usr/local/lib/python3.10/dist-packages (from jinja2->torch) (3.0.1)\n",
      "Requirement already satisfied: mpmath<1.4,>=1.1.0 in /usr/local/lib/python3.10/dist-packages (from sympy->torch) (1.3.0)\n",
      "Collecting bitsandbytes\n",
      "  Downloading bitsandbytes-0.44.1-py3-none-manylinux_2_24_x86_64.whl.metadata (3.5 kB)\n",
      "Requirement already satisfied: torch in /usr/local/lib/python3.10/dist-packages (from bitsandbytes) (2.4.1+cu121)\n",
      "Requirement already satisfied: numpy in /usr/local/lib/python3.10/dist-packages (from bitsandbytes) (1.26.4)\n",
      "Requirement already satisfied: filelock in /usr/local/lib/python3.10/dist-packages (from torch->bitsandbytes) (3.16.1)\n",
      "Requirement already satisfied: typing-extensions>=4.8.0 in /usr/local/lib/python3.10/dist-packages (from torch->bitsandbytes) (4.12.2)\n",
      "Requirement already satisfied: sympy in /usr/local/lib/python3.10/dist-packages (from torch->bitsandbytes) (1.13.3)\n",
      "Requirement already satisfied: networkx in /usr/local/lib/python3.10/dist-packages (from torch->bitsandbytes) (3.4.1)\n",
      "Requirement already satisfied: jinja2 in /usr/local/lib/python3.10/dist-packages (from torch->bitsandbytes) (3.1.4)\n",
      "Requirement already satisfied: fsspec in /usr/local/lib/python3.10/dist-packages (from torch->bitsandbytes) (2024.6.1)\n",
      "Requirement already satisfied: MarkupSafe>=2.0 in /usr/local/lib/python3.10/dist-packages (from jinja2->torch->bitsandbytes) (3.0.1)\n",
      "Requirement already satisfied: mpmath<1.4,>=1.1.0 in /usr/local/lib/python3.10/dist-packages (from sympy->torch->bitsandbytes) (1.3.0)\n",
      "Downloading bitsandbytes-0.44.1-py3-none-manylinux_2_24_x86_64.whl (122.4 MB)\n",
      "\u001b[2K   \u001b[90m━━━━━━━━━━━━━━━━━━━━━━━━━━━━━━━━━━━━━━━━\u001b[0m \u001b[32m122.4/122.4 MB\u001b[0m \u001b[31m7.5 MB/s\u001b[0m eta \u001b[36m0:00:00\u001b[0m\n",
      "\u001b[?25hInstalling collected packages: bitsandbytes\n",
      "Successfully installed bitsandbytes-0.44.1\n",
      "Requirement already satisfied: accelerate in /usr/local/lib/python3.10/dist-packages (0.34.2)\n",
      "Requirement already satisfied: numpy<3.0.0,>=1.17 in /usr/local/lib/python3.10/dist-packages (from accelerate) (1.26.4)\n",
      "Requirement already satisfied: packaging>=20.0 in /usr/local/lib/python3.10/dist-packages (from accelerate) (24.1)\n",
      "Requirement already satisfied: psutil in /usr/local/lib/python3.10/dist-packages (from accelerate) (5.9.5)\n",
      "Requirement already satisfied: pyyaml in /usr/local/lib/python3.10/dist-packages (from accelerate) (6.0.2)\n",
      "Requirement already satisfied: torch>=1.10.0 in /usr/local/lib/python3.10/dist-packages (from accelerate) (2.4.1+cu121)\n",
      "Requirement already satisfied: huggingface-hub>=0.21.0 in /usr/local/lib/python3.10/dist-packages (from accelerate) (0.24.7)\n",
      "Requirement already satisfied: safetensors>=0.4.3 in /usr/local/lib/python3.10/dist-packages (from accelerate) (0.4.5)\n",
      "Requirement already satisfied: filelock in /usr/local/lib/python3.10/dist-packages (from huggingface-hub>=0.21.0->accelerate) (3.16.1)\n",
      "Requirement already satisfied: fsspec>=2023.5.0 in /usr/local/lib/python3.10/dist-packages (from huggingface-hub>=0.21.0->accelerate) (2024.6.1)\n",
      "Requirement already satisfied: requests in /usr/local/lib/python3.10/dist-packages (from huggingface-hub>=0.21.0->accelerate) (2.32.3)\n",
      "Requirement already satisfied: tqdm>=4.42.1 in /usr/local/lib/python3.10/dist-packages (from huggingface-hub>=0.21.0->accelerate) (4.66.5)\n",
      "Requirement already satisfied: typing-extensions>=3.7.4.3 in /usr/local/lib/python3.10/dist-packages (from huggingface-hub>=0.21.0->accelerate) (4.12.2)\n",
      "Requirement already satisfied: sympy in /usr/local/lib/python3.10/dist-packages (from torch>=1.10.0->accelerate) (1.13.3)\n",
      "Requirement already satisfied: networkx in /usr/local/lib/python3.10/dist-packages (from torch>=1.10.0->accelerate) (3.4.1)\n",
      "Requirement already satisfied: jinja2 in /usr/local/lib/python3.10/dist-packages (from torch>=1.10.0->accelerate) (3.1.4)\n",
      "Requirement already satisfied: MarkupSafe>=2.0 in /usr/local/lib/python3.10/dist-packages (from jinja2->torch>=1.10.0->accelerate) (3.0.1)\n",
      "Requirement already satisfied: charset-normalizer<4,>=2 in /usr/local/lib/python3.10/dist-packages (from requests->huggingface-hub>=0.21.0->accelerate) (3.4.0)\n",
      "Requirement already satisfied: idna<4,>=2.5 in /usr/local/lib/python3.10/dist-packages (from requests->huggingface-hub>=0.21.0->accelerate) (3.10)\n",
      "Requirement already satisfied: urllib3<3,>=1.21.1 in /usr/local/lib/python3.10/dist-packages (from requests->huggingface-hub>=0.21.0->accelerate) (2.2.3)\n",
      "Requirement already satisfied: certifi>=2017.4.17 in /usr/local/lib/python3.10/dist-packages (from requests->huggingface-hub>=0.21.0->accelerate) (2024.8.30)\n",
      "Requirement already satisfied: mpmath<1.4,>=1.1.0 in /usr/local/lib/python3.10/dist-packages (from sympy->torch>=1.10.0->accelerate) (1.3.0)\n"
     ]
    }
   ],
   "source": [
    "%pip install wikipedia wikipedia-api\n",
    "%pip install langchain langchain-community langchain-huggingface langchain-utilites\n",
    "%pip install faiss-cpu faiss-gpu\n",
    "%pip install -U transformers\n",
    "%pip install torch\n",
    "%pip install bitsandbytes\n",
    "%pip install accelerate"
   ]
  },
  {
   "cell_type": "code",
   "execution_count": null,
   "metadata": {
    "colab": {
     "base_uri": "https://localhost:8080/",
     "height": 1000,
     "referenced_widgets": [
      "7c0c44bc8b4c422abfc5182ceb60f850",
      "9cacd85a61834e318c1d6809a1b310b1",
      "11334ac79d8847b385d2cdf6a65dea46",
      "6ab00b299a494a6fabe1cf249edcf5f9",
      "d4104badf7e749d8a5a315c353475132",
      "760b02b1ea5b4a5fbb266161bfe3c12f",
      "8524cb6ca90e4cb8a3337a0ed50a9113",
      "4d8e305755154ffd82efdfafd870fbe8",
      "c61734b8a6244c2cae33703ce070fa77",
      "6e506d47e34e4813a27484e70ee9f616",
      "973df2dea3444256aaeefb70332a1570",
      "2d2e5637274540b88738ced7cc22b245",
      "575806f8ad9546e1862b180e07ee89fd",
      "5cede09c30d54ca088ebc5f6a2ebc4e0",
      "7128951cf60f4f9991908ea8f013db3f",
      "e7a6124f73824dce8de11e03daafc03b",
      "745b19ac15cf48a5800a260ac5227e40",
      "96478bf7b3424b458a445dff90a1942f",
      "72c56ea78545455c9fd4be82cf84761c",
      "b9e64dd5bc884dfb8c0915865310e07f",
      "e28013acf3f64800973d990f3e80c464",
      "75a4f745499e4fb6a3f58090c0340751",
      "22e4128538e942e5ac804ba49e9a9299",
      "376fd2313b2d471ebd75c3da768bdc38",
      "421b6b5229b345c9bcc582eb2b5192a5",
      "84882091d3644e9a93243035ad6a776c",
      "c518d2ba7c6b4046b2f7f35e6c9f83f9",
      "fc0d5c9dc66c4ca6a9cb4b5dcb0e22c7",
      "12dcc59bd720448b917fd2aa0bfd0f8b",
      "e5d516f2e19b4d06b03e3c376f38433b",
      "be685c38b7614f3885d6b77ebdc5af13",
      "7f484c309a8e49389990239fc26b5f46",
      "796865cb68cf41ee828b0abf45513667",
      "75b57c8e64ef4f2f9ec55a8561e54b11",
      "4d98b5dcd1d94bf48eb2334bf3d0a473",
      "e3103e0a08d743beb3919d06577283e2",
      "e5153a5af70a4367baf56435d228b5b9",
      "1c864178370b4096917493c2b1f45221",
      "9f92166a18884a9c951228953fb4f063",
      "d1d1d046d7354721837995d6abde6770",
      "f0dbf11058dd45d285e6942692984d07",
      "314e58183ad244ae8e343ce0fc9aa04b",
      "4a19425fa78143e7b34ea63b627a2556",
      "8b230255597d41a18492c02064beb390",
      "345a458d7c8a4decbcafdc24e21a16f6",
      "abd901618c0446849e442c03a947fa09",
      "e9eaccc7310e4212a9059aed95973426",
      "a9caf51d45814aaa8b8bb39b11b1ca88",
      "45aef694226a4f55981dd74e15f6b891",
      "3cbe4c17953d4f6ba727503d1a47ab14",
      "e45c2cd6244b44af80163f5cb17e1b19",
      "3e871e50436b432292ea505fb73881be",
      "3a99bff430e04109a189ce67570d3836",
      "63f0a71617f04ff3af480f8657a3a1de",
      "285a7baa17e3489e8cbddcb85bdd4f56",
      "7d1963ea993244fe9135c9f38fb9f872",
      "985db65c7a054806871bfb5f02493eef",
      "3fac2ea8aeaa47f2be33455a7d88b005",
      "5478067162334df9ba4b8ff4dff4052c",
      "4b62da280cc54ce9943dc295a5a13246",
      "666072d0f76048fbbfb2459d286e4874",
      "eb7a58d6be4e4a3d831239b9d8c80625",
      "5b14b8a1d8c04cf88e1e68102628bd4e",
      "f9cb66ecc8874e0b9c4cc8d5a4ff3033",
      "e1e2c54a1d2640d0ac45fd09c4506865",
      "c38716d0b979424f945ce0825c64468c",
      "8ae8798b57db408b86c49267e1381d46",
      "a6d462d94ee74ffa9614e8df8b10ef58",
      "a176535bc68c4d2687b9bce2ee0bfe40",
      "1cca34316a1a4ae1be618a7430f112d0",
      "25ec5d8457154feaa12f1ca5ed6a0418",
      "0ed199770b804a5fa4d0697dd3705625",
      "023763b25d714b2eba91de460171fa2f",
      "6c4566adf74d4b5c93c419240d1c85f2",
      "ee1c2c2fb4a640f9a9bed34e2cbf6efa",
      "7009b8920cba4cc5883881106f3660c6",
      "8963f20eb02f4b5caf833578c9715cc2",
      "df90e6607db54c43b6860a8fb0bbb34a",
      "bf0a151dd8134990b5cb29ea685d0795",
      "a3915b98c9f04574a4b08c8ad1f315ff",
      "87d9b47d22c04244b7c3b1511a6439dc",
      "df9cf2addf444abfb2e9571c28971284",
      "cbf7299353e54b4787455a3e9844ef71",
      "bbbdc3a338b141dfaf604268077c0aad",
      "ba8593ea00b64a5bb46d33f73aeb31be",
      "2309f8a512b94f86aba58eae8d665988",
      "9a0cbeebd46748c6bafda718bf7167da",
      "dafa1ba2689046ca8a5011347555c9aa",
      "87a2a40c411c4b63b91d1c473ee44ca6",
      "6fe11866f80144d8941050d07ced584a",
      "734a8ca0a6524c978c5a1d5ab3b2b155",
      "5d30bee15c31403a95e9d77577005617",
      "372edf5b89b3433c8f1d5c638695d8d5",
      "bf285413445d46cea2ea673e8161cfa7",
      "7b3b8a3e63b6494a95c0ac4bdd92c268",
      "6aa28312f1714e229bc4f8d27fa7536c",
      "2d3207945c744edda0d79cd62c93e8ae",
      "d12355c12bf94c32b09f1bd1205a3a28",
      "dcaf12ff7fb84110a3b8fdd6a2507314",
      "4bd59e891ed248e5a1dd31dcf62048c6",
      "cf2ba784dc85435aa9ac80127f3cb07f",
      "acc904f3ee9c4e3fb7429a0e412b0e15",
      "1e7c8d5a4dd341098d8f358def62a197",
      "1ed4204435424a95b0a49d84cef37357",
      "22174647e0d843ec8e78e79be4825c01",
      "4a7cf3dd6fee46ca9cdb31b2eea93841",
      "c74c29fab06f41f1bbb9083494b7ee3d",
      "52fda49ebb124d80a751de4a562f017e",
      "3b99e610bc0041918587078847b9fd15",
      "b0dff1818dbe49b78cc8afe323782f0f",
      "91e29c21fb744df68a939db895ee4dbd",
      "43a179d97b3847209bd59a0faa695766",
      "5703d36f50104b30bab6b658f47f0b98",
      "681ba71d7ca045168bdb618ebac51b84",
      "360a43329bfb4b61b7b3aa6803181f6f",
      "120b5b8cfc704c8aa0464fe07e6bfab9",
      "53356902aaad4b5c833fcd83aeed2955",
      "4af95daf1a134aaf9bed31e7f9376d5a",
      "c4498aa7f30a4e8692075088f3175214",
      "fa492058f21046fdba72193e3a644887",
      "b4eee4f0edda46da89bd7ef0162023b3",
      "d3e7ddf4798748149f04bcc1feec75cb",
      "5a4953135d7b40ebb8a2a82febf3bb3e",
      "0c09c3cd2b2d470b9327a9c4f187b297",
      "38713312c37d4ab5a488df3eaa92a711",
      "1b704a3d55d04756911ca769a4c18897",
      "ee7500e92604499eb1937335a73452e0",
      "53cf3d9c024344b6a46c2de5d3452373",
      "98579acad045419093e70021197c48d7",
      "19b484778ad741b0a881162d05b7ddc0",
      "877e0d6b2e46466b821a932f8a674f62",
      "23e5cb3d0ac248b3bcf8cdd361106c0c",
      "2e186c639f354fed836a91f81bc84028",
      "a01421579d0c44b2b57207148cfafca6",
      "ee0a2b2c60db413699554e996c73cd70",
      "50dc17ba810847d7b4c1ab41afc648e3",
      "edb3058fc3924125882875b070ebddf4",
      "65a47961ed4f481b9d5aa49903c61276",
      "5cfa18a6defb4136a9424b4e1c2ad8c4",
      "c4f5549a86114c75ab54ce49a8c29c38",
      "230240fefb554b5c9035353c1a4e1bcf",
      "2f471e2cccce41ae90793b4fa516ce92",
      "ae03934b038c428caeb9d81c900138b2",
      "2d931b7a09c74fac8ade45bc5d115f37",
      "83b388ed1cf449eab09d62ac38bb1be8",
      "7165579c3702423f95023b780f81e8a1",
      "1e19476c4d084b77b7667c3be9adfd08",
      "d6c421a49fb14fd1ba0520097b4e30c1",
      "86a35b61b1b54c0e8682597e45a69b3e",
      "b4457aeed76b48d79790283136695406",
      "7dbaf8a74e554cbeb47845b869a0030c",
      "4f0298a3f8f640ce8f0be96d0053a85d",
      "5f016607e78344fe99c9109f69035e28",
      "741fbd10a93d4270b8e2f2734cb458c0",
      "be00188c4fb34714b857a92f5c3b0e3c",
      "5aa07edbcfb14374989816c3ce73e383",
      "9f85929ef9144a659d7fc15edd103bc1",
      "57df535030a04faaabfa33ede89df561",
      "fb8072b9c86a441596c7c8d7a072b766",
      "6502ec629e6a42fb84eebfc0b7971c5d",
      "68ff6e77f0c14e338dc64cd93b70a82c",
      "8d373cba16fe4b3ebdb9340a473d9c28",
      "1199d731bcd340ff986175e9b535a818",
      "586349fd9edc4234a27bef81759d1356",
      "6156e70e8375488e8983740c84f1fbdd",
      "c868f0d459474a5db0eb0f08146d8892",
      "72acc451fca143569cbae012485dc082",
      "ba36b36ee9ec4b72af2d7cad0507734d",
      "75050031ea644e0080de4290c026bfa3",
      "dba4139e2aa1461fa11389924af5b512",
      "2eb688e3b5e846718da98b85672f3999",
      "b6fc220772fe4a749f69d0208ec1a510",
      "95c9a7dab5a0477dac174e9fd617f893",
      "991b4eb261a64d3fbdacf4c7a7ccceb7",
      "29a9b589e6f34223a3b68b3d1081c153",
      "fb5c6c25c1be4f3591ed9f856707714a",
      "b6f255c2a6c94bacaf30b4955d260222",
      "7fd3473fbf0544579edb4d0b44f73297",
      "55e630fa99a04325aab7cb09e115e8f5",
      "dd11cf7b87f945d4a9de93dc8cd3178f",
      "a8db4b20390a463faa598df2a91895ec",
      "98740641cf8a436e89f286de22dfc86d",
      "c0618bf1210a4d4d87335409d1ef55ab",
      "49f22befc87640ffa6bcf4cf2fb82936",
      "fbcefd461a1f490389e99206335bfb88",
      "8f5d0f772d0e4e05ac92e9bf4a0243b7",
      "12afb31a8814485b93acc7970902e740",
      "a26a0614deb240adb256da16fdba797c",
      "eeaeef63227a4d2e8d25b3d8bc7f4fe0",
      "8375076550af4cb7906ce2f5cd41ff31",
      "1258713185c242e597db0f296fa3e7d8",
      "c0c5d267b1864563a4adbca0546b776f",
      "21de28ab479a4588862e43be18df7909",
      "0be76e68155a472fac6a15106bc24b04",
      "06bf8ab73c1c406cbdc1de7449c75849",
      "71c25df98a1d4e9789c26a930922a631",
      "6985a3c8910546ea88a0fda1d864f06e",
      "ac0d09b49d58443aa67383efeadb69ab",
      "449a72c71c8146da88df876ff118e7fb",
      "393787a83ecc4d05af6efd2524218206",
      "4f182acb6fd44a919310bac395e4f587",
      "a0e3401d17ff48ab95a6fbeaefc46382",
      "8565cdb8008a433491306c8fe4e095ec",
      "f98c6a059e544024a5a156501893b4e9",
      "770e6f0e4d664bfc88ac1628d0dec3ef",
      "01a2fd67bab84715a994e617bdc1c517",
      "80b84f56d7ec44fd96c9786bfd9597f9",
      "db40dfac695c465e9c77ce5dcae9ffab",
      "617a9727422e4af4998d31b8907710a2",
      "8b854a7984be4317b2e6f24a9d75112b",
      "187e1be37a024c95a462c2c09513341e",
      "35b7ffceb80f481188c5ee1f16fc797f",
      "55a1215b7a5c433baf868609e1f8d06f",
      "0590a0e3342c4217a9a1d5880c9042c2",
      "d94d9839cc2d44f1bf84200b9944eea5",
      "1796784c2b1c47b3a1d49e285f1fdbe6",
      "a099e763974a4f579e7ee32f2a4f262a",
      "b31984e39fbb4d53a922951680f6f3d5",
      "98c007c5e7f3409f8d6d7d23827ec917",
      "29e4f9ceb27f43d983a3702b6f14d628",
      "5316a14117fe45d6a3f77b52132bb271",
      "033f4c9685ca4b568b27fe44d980e46b",
      "0547c3603562434ba3b035a89d966a99",
      "b31ea778b79948f6af2dffb6b64a4198",
      "f9415d330221491da921473a121a3d93",
      "650e2dae6b2545b892d2d838e061ae39",
      "c086842112d1490b98a2b167d8c6daa1",
      "5ede91a4463d4749987e19fccaac3a68",
      "98f4d6e6778147459b73aa4d3c3d39d3",
      "b58e34da8be545df9be730e657d02327",
      "b689ee334fe64eed805f12f8a2988ec1",
      "2b4622c7e13b49fab16a0a440cda4890",
      "32534dd354f24b29a9754207060460a8",
      "a08b403b5eb24076975dcff3908bc203",
      "adc752a546774af4ad879d43070c7bcb",
      "884e3bad2c704b159ddb9b9d46ccb2f5",
      "57561817c5d74794a8384b76d54b23e9",
      "e7b355f5417e48b3a5bf2d370191a049",
      "0dd5ae24da9e4039aefa1aa14ec47e25",
      "42b49535081a44e6aed79b356d3e6df4",
      "fef524c6f7794183a6d3f333237b6ab3",
      "d25566bb8fe84dce92ce08cce07c420e",
      "e56cd79606d14cad94303b7fa14c4802",
      "4f05d2d51cba4f4bb2c1af44eecfb014",
      "030ce51162cb4cd8a83730893e34368d",
      "59cfa6c23f5748428911abee9ef82a79",
      "9afa99bf5993489da75342c2e1bc4842",
      "6493899ef6fd449c9f4ae328fe474b29",
      "43b7304946da4d7db6bb3158c02ae194",
      "e132f81d1ae1423196ec9c09b0110d92",
      "919f0a89d72f46288daccb57d90b798e",
      "ae0a49a423c442c9a6073a22caf64910",
      "e8a044934c624cf2aa8d74804eab7429",
      "5b2bbfe4047f4199b1c74559d938acf2",
      "956ba1c938b84b9b91250a2f95160abd",
      "b13d54ea4fd64a2ea791958302444f01",
      "99cffc666d6f4a3d9df6c0ffeb0daf48",
      "7862018780604fc290b3d25218b3610c",
      "1cfda890782e45878a01d4b046dae276",
      "80888c6c17074d009f495471b19905f4",
      "585458d90242452489b186da95071085",
      "b0d929a186c147c18e94c5497cb39a6f",
      "291ffbc160894c18acb3760c524955e9",
      "809a2c64c05a4a4c859c721aa3aeebec",
      "109584142126415281af1dd9c138fa73",
      "3fa6c947814146a0a9306ecc97d57a5a",
      "e2397218ae9e4400b8162e9960a459b1",
      "2e858eb12ad54d7e8376c666044ab862",
      "2413d70b7ee345338c8e7772999c8cb9",
      "69c94198714c4829bc85795c42648dbe",
      "5e841fd0ba934896b0cb80f0ad917cec",
      "f647bd272aa94ec5acf08f9eb88f9e23",
      "b246b05081034e03b92df42de94e16b6",
      "485ad56be79245f785ff67516eb341ab",
      "3886b408ae664d2a9b499fcdeaf31051",
      "21492fe0eecd45ec9d8296181edca2f7",
      "737aeba70ef74986b45fe6696d98df4a",
      "419bd758e5f5465883fbd0e42e49a396",
      "a74b6c7124f04206a0bcada1f54407cc",
      "ad18d5457bb2453ab3bd24159a86aa1c",
      "61c1c9db9f3b47b58ccf9b42f5141b4d",
      "f80f068272124e13859217138bd80a0e",
      "7c54aaafcb7248d88dbafef7ca88e215",
      "402b47f8478245b78be927212e4f0029",
      "66bca5ed08764c768a97146bad7cbebb",
      "c79fc8edfd8f49aa9252d0ced86a7a83"
     ]
    },
    "id": "Hf358Mp5CHx1",
    "outputId": "c29b32e4-fc73-4649-ed1b-c72402eb2c61"
   },
   "outputs": [
    {
     "name": "stdout",
     "output_type": "stream",
     "text": [
      "The token has not been saved to the git credentials helper. Pass `add_to_git_credential=True` in this function directly or `--add-to-git-credential` if using via `huggingface-cli` if you want to set the git credential as well.\n",
      "Token is valid (permission: write).\n",
      "Your token has been saved to /root/.cache/huggingface/token\n",
      "Login successful\n"
     ]
    },
    {
     "name": "stderr",
     "output_type": "stream",
     "text": [
      "/usr/local/lib/python3.10/dist-packages/huggingface_hub/utils/_token.py:89: UserWarning: \n",
      "The secret `HF_TOKEN` does not exist in your Colab secrets.\n",
      "To authenticate with the Hugging Face Hub, create a token in your settings tab (https://huggingface.co/settings/tokens), set it as secret in your Google Colab and restart your session.\n",
      "You will be able to reuse this secret in all of your notebooks.\n",
      "Please note that authentication is recommended but still optional to access public models or datasets.\n",
      "  warnings.warn(\n"
     ]
    },
    {
     "data": {
      "application/vnd.jupyter.widget-view+json": {
       "model_id": "7c0c44bc8b4c422abfc5182ceb60f850",
       "version_major": 2,
       "version_minor": 0
      },
      "text/plain": [
       "preprocessor_config.json:   0%|          | 0.00/437 [00:00<?, ?B/s]"
      ]
     },
     "metadata": {},
     "output_type": "display_data"
    },
    {
     "data": {
      "application/vnd.jupyter.widget-view+json": {
       "model_id": "2d2e5637274540b88738ced7cc22b245",
       "version_major": 2,
       "version_minor": 0
      },
      "text/plain": [
       "tokenizer_config.json:   0%|          | 0.00/55.8k [00:00<?, ?B/s]"
      ]
     },
     "metadata": {},
     "output_type": "display_data"
    },
    {
     "data": {
      "application/vnd.jupyter.widget-view+json": {
       "model_id": "22e4128538e942e5ac804ba49e9a9299",
       "version_major": 2,
       "version_minor": 0
      },
      "text/plain": [
       "config.json:   0%|          | 0.00/5.07k [00:00<?, ?B/s]"
      ]
     },
     "metadata": {},
     "output_type": "display_data"
    },
    {
     "data": {
      "application/vnd.jupyter.widget-view+json": {
       "model_id": "75b57c8e64ef4f2f9ec55a8561e54b11",
       "version_major": 2,
       "version_minor": 0
      },
      "text/plain": [
       "tokenizer.json:   0%|          | 0.00/9.09M [00:00<?, ?B/s]"
      ]
     },
     "metadata": {},
     "output_type": "display_data"
    },
    {
     "data": {
      "application/vnd.jupyter.widget-view+json": {
       "model_id": "345a458d7c8a4decbcafdc24e21a16f6",
       "version_major": 2,
       "version_minor": 0
      },
      "text/plain": [
       "special_tokens_map.json:   0%|          | 0.00/454 [00:00<?, ?B/s]"
      ]
     },
     "metadata": {},
     "output_type": "display_data"
    },
    {
     "data": {
      "application/vnd.jupyter.widget-view+json": {
       "model_id": "7d1963ea993244fe9135c9f38fb9f872",
       "version_major": 2,
       "version_minor": 0
      },
      "text/plain": [
       "chat_template.json:   0%|          | 0.00/5.15k [00:00<?, ?B/s]"
      ]
     },
     "metadata": {},
     "output_type": "display_data"
    },
    {
     "data": {
      "application/vnd.jupyter.widget-view+json": {
       "model_id": "8ae8798b57db408b86c49267e1381d46",
       "version_major": 2,
       "version_minor": 0
      },
      "text/plain": [
       "model.safetensors.index.json:   0%|          | 0.00/89.4k [00:00<?, ?B/s]"
      ]
     },
     "metadata": {},
     "output_type": "display_data"
    },
    {
     "data": {
      "application/vnd.jupyter.widget-view+json": {
       "model_id": "df90e6607db54c43b6860a8fb0bbb34a",
       "version_major": 2,
       "version_minor": 0
      },
      "text/plain": [
       "Downloading shards:   0%|          | 0/5 [00:00<?, ?it/s]"
      ]
     },
     "metadata": {},
     "output_type": "display_data"
    },
    {
     "data": {
      "application/vnd.jupyter.widget-view+json": {
       "model_id": "87a2a40c411c4b63b91d1c473ee44ca6",
       "version_major": 2,
       "version_minor": 0
      },
      "text/plain": [
       "model-00001-of-00005.safetensors:   0%|          | 0.00/4.99G [00:00<?, ?B/s]"
      ]
     },
     "metadata": {},
     "output_type": "display_data"
    },
    {
     "data": {
      "application/vnd.jupyter.widget-view+json": {
       "model_id": "4bd59e891ed248e5a1dd31dcf62048c6",
       "version_major": 2,
       "version_minor": 0
      },
      "text/plain": [
       "model-00002-of-00005.safetensors:   0%|          | 0.00/4.97G [00:00<?, ?B/s]"
      ]
     },
     "metadata": {},
     "output_type": "display_data"
    },
    {
     "data": {
      "application/vnd.jupyter.widget-view+json": {
       "model_id": "91e29c21fb744df68a939db895ee4dbd",
       "version_major": 2,
       "version_minor": 0
      },
      "text/plain": [
       "model-00003-of-00005.safetensors:   0%|          | 0.00/4.92G [00:00<?, ?B/s]"
      ]
     },
     "metadata": {},
     "output_type": "display_data"
    },
    {
     "data": {
      "application/vnd.jupyter.widget-view+json": {
       "model_id": "d3e7ddf4798748149f04bcc1feec75cb",
       "version_major": 2,
       "version_minor": 0
      },
      "text/plain": [
       "model-00004-of-00005.safetensors:   0%|          | 0.00/5.00G [00:00<?, ?B/s]"
      ]
     },
     "metadata": {},
     "output_type": "display_data"
    },
    {
     "data": {
      "application/vnd.jupyter.widget-view+json": {
       "model_id": "2e186c639f354fed836a91f81bc84028",
       "version_major": 2,
       "version_minor": 0
      },
      "text/plain": [
       "model-00005-of-00005.safetensors:   0%|          | 0.00/1.47G [00:00<?, ?B/s]"
      ]
     },
     "metadata": {},
     "output_type": "display_data"
    },
    {
     "name": "stderr",
     "output_type": "stream",
     "text": [
      "WARNING:accelerate.utils.modeling:The model weights are not tied. Please use the `tie_weights` method before using the `infer_auto_device` function.\n"
     ]
    },
    {
     "data": {
      "application/vnd.jupyter.widget-view+json": {
       "model_id": "2d931b7a09c74fac8ade45bc5d115f37",
       "version_major": 2,
       "version_minor": 0
      },
      "text/plain": [
       "Loading checkpoint shards:   0%|          | 0/5 [00:00<?, ?it/s]"
      ]
     },
     "metadata": {},
     "output_type": "display_data"
    },
    {
     "data": {
      "application/vnd.jupyter.widget-view+json": {
       "model_id": "be00188c4fb34714b857a92f5c3b0e3c",
       "version_major": 2,
       "version_minor": 0
      },
      "text/plain": [
       "generation_config.json:   0%|          | 0.00/215 [00:00<?, ?B/s]"
      ]
     },
     "metadata": {},
     "output_type": "display_data"
    },
    {
     "data": {
      "application/vnd.jupyter.widget-view+json": {
       "model_id": "c868f0d459474a5db0eb0f08146d8892",
       "version_major": 2,
       "version_minor": 0
      },
      "text/plain": [
       "modules.json:   0%|          | 0.00/349 [00:00<?, ?B/s]"
      ]
     },
     "metadata": {},
     "output_type": "display_data"
    },
    {
     "data": {
      "application/vnd.jupyter.widget-view+json": {
       "model_id": "b6f255c2a6c94bacaf30b4955d260222",
       "version_major": 2,
       "version_minor": 0
      },
      "text/plain": [
       "config_sentence_transformers.json:   0%|          | 0.00/116 [00:00<?, ?B/s]"
      ]
     },
     "metadata": {},
     "output_type": "display_data"
    },
    {
     "data": {
      "application/vnd.jupyter.widget-view+json": {
       "model_id": "a26a0614deb240adb256da16fdba797c",
       "version_major": 2,
       "version_minor": 0
      },
      "text/plain": [
       "README.md:   0%|          | 0.00/10.7k [00:00<?, ?B/s]"
      ]
     },
     "metadata": {},
     "output_type": "display_data"
    },
    {
     "data": {
      "application/vnd.jupyter.widget-view+json": {
       "model_id": "449a72c71c8146da88df876ff118e7fb",
       "version_major": 2,
       "version_minor": 0
      },
      "text/plain": [
       "sentence_bert_config.json:   0%|          | 0.00/53.0 [00:00<?, ?B/s]"
      ]
     },
     "metadata": {},
     "output_type": "display_data"
    },
    {
     "data": {
      "application/vnd.jupyter.widget-view+json": {
       "model_id": "8b854a7984be4317b2e6f24a9d75112b",
       "version_major": 2,
       "version_minor": 0
      },
      "text/plain": [
       "config.json:   0%|          | 0.00/612 [00:00<?, ?B/s]"
      ]
     },
     "metadata": {},
     "output_type": "display_data"
    },
    {
     "data": {
      "application/vnd.jupyter.widget-view+json": {
       "model_id": "5316a14117fe45d6a3f77b52132bb271",
       "version_major": 2,
       "version_minor": 0
      },
      "text/plain": [
       "model.safetensors:   0%|          | 0.00/90.9M [00:00<?, ?B/s]"
      ]
     },
     "metadata": {},
     "output_type": "display_data"
    },
    {
     "data": {
      "application/vnd.jupyter.widget-view+json": {
       "model_id": "2b4622c7e13b49fab16a0a440cda4890",
       "version_major": 2,
       "version_minor": 0
      },
      "text/plain": [
       "tokenizer_config.json:   0%|          | 0.00/350 [00:00<?, ?B/s]"
      ]
     },
     "metadata": {},
     "output_type": "display_data"
    },
    {
     "data": {
      "application/vnd.jupyter.widget-view+json": {
       "model_id": "e56cd79606d14cad94303b7fa14c4802",
       "version_major": 2,
       "version_minor": 0
      },
      "text/plain": [
       "vocab.txt:   0%|          | 0.00/232k [00:00<?, ?B/s]"
      ]
     },
     "metadata": {},
     "output_type": "display_data"
    },
    {
     "data": {
      "application/vnd.jupyter.widget-view+json": {
       "model_id": "5b2bbfe4047f4199b1c74559d938acf2",
       "version_major": 2,
       "version_minor": 0
      },
      "text/plain": [
       "tokenizer.json:   0%|          | 0.00/466k [00:00<?, ?B/s]"
      ]
     },
     "metadata": {},
     "output_type": "display_data"
    },
    {
     "data": {
      "application/vnd.jupyter.widget-view+json": {
       "model_id": "109584142126415281af1dd9c138fa73",
       "version_major": 2,
       "version_minor": 0
      },
      "text/plain": [
       "special_tokens_map.json:   0%|          | 0.00/112 [00:00<?, ?B/s]"
      ]
     },
     "metadata": {},
     "output_type": "display_data"
    },
    {
     "data": {
      "application/vnd.jupyter.widget-view+json": {
       "model_id": "21492fe0eecd45ec9d8296181edca2f7",
       "version_major": 2,
       "version_minor": 0
      },
      "text/plain": [
       "1_Pooling/config.json:   0%|          | 0.00/190 [00:00<?, ?B/s]"
      ]
     },
     "metadata": {},
     "output_type": "display_data"
    }
   ],
   "source": [
    "import warnings\n",
    "import wikipedia\n",
    "from langchain.text_splitter import RecursiveCharacterTextSplitter\n",
    "from langchain_huggingface.embeddings import HuggingFaceEmbeddings\n",
    "from langchain_community.vectorstores import FAISS\n",
    "import torch\n",
    "from transformers import AutoProcessor, MllamaForConditionalGeneration, BitsAndBytesConfig\n",
    "import requests\n",
    "from PIL import Image\n",
    "import re\n",
    "from huggingface_hub import login\n",
    "import io\n",
    "import os\n",
    "\n",
    "login(HF_TOKEN)\n",
    "\n",
    "device = \"cuda\" if torch.cuda.is_available() else \"cpu\"\n",
    "\n",
    "bnb_config = BitsAndBytesConfig(\n",
    "    load_in_4bit=True,\n",
    "    bnb_4bit_use_double_quant=True,\n",
    "    bnb_4bit_quant_type=\"nf4\",\n",
    "    bnb_4bit_compute_dtype=torch.bfloat16\n",
    ")\n",
    "\n",
    "model_id = \"meta-llama/Llama-3.2-11B-Vision-Instruct\"\n",
    "processor = AutoProcessor.from_pretrained(model_id)\n",
    "model = MllamaForConditionalGeneration.from_pretrained(\n",
    "    model_id,\n",
    "    torch_dtype=torch.bfloat16,\n",
    "    quantization_config=bnb_config,\n",
    "    device_map=\"auto\",\n",
    ")\n",
    "\n",
    "embedding_model = HuggingFaceEmbeddings(model_name=\"sentence-transformers/all-MiniLM-L6-v2\",\n",
    "                                        encode_kwargs={'normalize_embeddings': True})"
   ]
  },
  {
   "cell_type": "code",
   "execution_count": null,
   "metadata": {
    "id": "WKVXtGPW5GM2"
   },
   "outputs": [],
   "source": [
    "def get_wikipedia_pages(keywords, num_results=10):\n",
    "    wikipedia.set_lang(\"en\")\n",
    "    titles = wikipedia.search(keywords, num_results)\n",
    "    pages = []\n",
    "    for t in titles:\n",
    "        try:\n",
    "            pages.append(wikipedia.page(t, auto_suggest=False))\n",
    "        except Exception as e:\n",
    "            warnings.warn(str(e))\n",
    "    return pages"
   ]
  },
  {
   "cell_type": "code",
   "execution_count": null,
   "metadata": {
    "id": "XIHhFfct7y4n"
   },
   "outputs": [],
   "source": [
    "def get_keywords(query, image):\n",
    "    input_text = f\"Your task is to write a few search keywords to find Wikipedia pages containing the relevant information to answer the question about the provided image. The keywords must be as specific as possible and must represent the information that is needed to answer the question in relation to the provided image. Don't write more than 3 keywords and special characters. Please print only keywords as output.\\nQuestion: {query}\\n\"\n",
    "\n",
    "    conversation = [\n",
    "        {\n",
    "          \"role\": \"user\",\n",
    "          \"content\": [\n",
    "              {\"type\": \"text\", \"text\": input_text},\n",
    "              {\"type\": \"image\"},\n",
    "            ],\n",
    "        },\n",
    "    ]\n",
    "    prompt = processor.apply_chat_template(conversation, add_generation_prompt=True)\n",
    "\n",
    "    inputs = processor(image, prompt, return_tensors=\"pt\").to(device)\n",
    "\n",
    "    outputs = model.generate(**inputs, max_new_tokens=150)\n",
    "    full_output = processor.decode(outputs[0], skip_special_tokens=True)\n",
    "    prompt_length = len(processor.decode(inputs[\"input_ids\"][0], skip_special_tokens=True))\n",
    "\n",
    "    answer = full_output[prompt_length:].strip()\n",
    "    return answer"
   ]
  },
  {
   "cell_type": "code",
   "execution_count": null,
   "metadata": {
    "id": "V0sDGtQdDOPd"
   },
   "outputs": [],
   "source": [
    "def split_text(pages, chunk_size=1024, chunk_overlap=150):\n",
    "    splitter = RecursiveCharacterTextSplitter(chunk_size=chunk_size, chunk_overlap=chunk_overlap)\n",
    "    chunks = []\n",
    "    for page in pages:\n",
    "        chunks.extend(splitter.split_text(page.content))\n",
    "    return chunks"
   ]
  },
  {
   "cell_type": "code",
   "execution_count": null,
   "metadata": {
    "id": "kH6FCxj5S7zV"
   },
   "outputs": [],
   "source": [
    "def retrieve_relevant_texts(query, faiss_index, top_k=5):\n",
    "    return faiss_index.similarity_search(query, k=top_k)"
   ]
  },
  {
   "cell_type": "code",
   "execution_count": null,
   "metadata": {
    "id": "i5_kx4E8UJ4R"
   },
   "outputs": [],
   "source": [
    "def generate_answer_from_retrieved(retrieved_texts, query, image):\n",
    "    context = \"\\n\\n\".join(retrieved_texts)\n",
    "    input_text = f\"Question: {query}\\nYou can use the following information from Wikipedia to provide your answer.\\n\\nContext: {context}\"\n",
    "\n",
    "    conversation = [\n",
    "        {\n",
    "          \"role\": \"user\",\n",
    "          \"content\": [\n",
    "              {\"type\": \"text\", \"text\": input_text},\n",
    "              {\"type\": \"image\"},\n",
    "            ],\n",
    "        },\n",
    "    ]\n",
    "    prompt = processor.apply_chat_template(conversation, add_generation_prompt=True)\n",
    "\n",
    "    inputs = processor(image, prompt, return_tensors=\"pt\").to(device)\n",
    "\n",
    "    outputs = model.generate(**inputs, max_new_tokens=250)\n",
    "    full_output = processor.decode(outputs[0], skip_special_tokens=True)\n",
    "    prompt_length = len(processor.decode(inputs[\"input_ids\"][0], skip_special_tokens=True))\n",
    "\n",
    "    answer = full_output[prompt_length:].strip()\n",
    "    return answer"
   ]
  },
  {
   "cell_type": "code",
   "execution_count": null,
   "metadata": {
    "id": "VzUfQL0c-MlW"
   },
   "outputs": [],
   "source": [
    "def generate_answer(query, image):\n",
    "\n",
    "    keywords = get_keywords(query, image)\n",
    "\n",
    "    pages = get_wikipedia_pages(keywords)\n",
    "\n",
    "    text_chunks = split_text(pages)\n",
    "\n",
    "    faiss_index = FAISS.from_texts(text_chunks, embedding_model)\n",
    "\n",
    "    relevant_texts = retrieve_relevant_texts(query + \"Keywords: \" + keywords, faiss_index)\n",
    "    relevant_texts = [text.page_content for text in relevant_texts]\n",
    "\n",
    "    final_answer = generate_answer_from_retrieved(relevant_texts, query, image)\n",
    "\n",
    "    return final_answer"
   ]
  },
  {
   "cell_type": "code",
   "execution_count": null,
   "metadata": {
    "colab": {
     "base_uri": "https://localhost:8080/",
     "height": 35
    },
    "id": "dXPhx5KSAymM",
    "outputId": "0be2b345-a325-4ccc-cd15-74c04613b94a"
   },
   "outputs": [
    {
     "data": {
      "application/vnd.google.colaboratory.intrinsic+json": {
       "type": "string"
      },
      "text/plain": [
       "'The person in the picture is Napoleon Bonaparte.'"
      ]
     },
     "execution_count": 20,
     "metadata": {},
     "output_type": "execute_result"
    }
   ],
   "source": [
    "r = requests.get('https://upload.wikimedia.org/wikipedia/commons/thumb/5/50/Jacques-Louis_David_-_The_Emperor_Napoleon_in_His_Study_at_the_Tuileries_-_Google_Art_Project.jpg/220px-Jacques-Louis_David_-_The_Emperor_Napoleon_in_His_Study_at_the_Tuileries_-_Google_Art_Project.jpg', stream=True)\n",
    "image = Image.open(io.BytesIO(r.content))\n",
    "\n",
    "generate_answer(\"Who is the person in the picture?\", image)"
   ]
  },
  {
   "cell_type": "code",
   "execution_count": null,
   "metadata": {
    "colab": {
     "base_uri": "https://localhost:8080/"
    },
    "id": "v-f7B4T1oJC3",
    "outputId": "817a133e-99d6-4919-e2d1-34386fa01c40"
   },
   "outputs": [
    {
     "name": "stdout",
     "output_type": "stream",
     "text": [
      "Collecting duckduckgo-search\n",
      "  Downloading duckduckgo_search-6.3.2-py3-none-any.whl.metadata (25 kB)\n",
      "Requirement already satisfied: click>=8.1.7 in /usr/local/lib/python3.10/dist-packages (from duckduckgo-search) (8.1.7)\n",
      "Collecting primp>=0.6.4 (from duckduckgo-search)\n",
      "  Downloading primp-0.6.4-cp38-abi3-manylinux_2_17_x86_64.manylinux2014_x86_64.whl.metadata (10 kB)\n",
      "Downloading duckduckgo_search-6.3.2-py3-none-any.whl (27 kB)\n",
      "Downloading primp-0.6.4-cp38-abi3-manylinux_2_17_x86_64.manylinux2014_x86_64.whl (3.0 MB)\n",
      "\u001b[?25l   \u001b[90m━━━━━━━━━━━━━━━━━━━━━━━━━━━━━━━━━━━━━━━━\u001b[0m \u001b[32m0.0/3.0 MB\u001b[0m \u001b[31m?\u001b[0m eta \u001b[36m-:--:--\u001b[0m\r",
      "\u001b[2K   \u001b[91m━━━━━━━━━━━━━━━━━━━━━━━━━━━━━━━━━━━━━━━\u001b[0m\u001b[91m╸\u001b[0m \u001b[32m3.0/3.0 MB\u001b[0m \u001b[31m141.6 MB/s\u001b[0m eta \u001b[36m0:00:01\u001b[0m\r",
      "\u001b[2K   \u001b[90m━━━━━━━━━━━━━━━━━━━━━━━━━━━━━━━━━━━━━━━━\u001b[0m \u001b[32m3.0/3.0 MB\u001b[0m \u001b[31m74.4 MB/s\u001b[0m eta \u001b[36m0:00:00\u001b[0m\n",
      "\u001b[?25hInstalling collected packages: primp, duckduckgo-search\n",
      "Successfully installed duckduckgo-search-6.3.2 primp-0.6.4\n"
     ]
    }
   ],
   "source": [
    "%pip install duckduckgo-search"
   ]
  },
  {
   "cell_type": "code",
   "execution_count": null,
   "metadata": {
    "id": "v1NM_dUkDwUJ"
   },
   "outputs": [],
   "source": [
    "from langchain_community.tools import DuckDuckGoSearchRun\n",
    "\n",
    "def generate_web_answer(query, image):\n",
    "    keywords = get_keywords(query, image)\n",
    "\n",
    "    search = DuckDuckGoSearchRun()\n",
    "    search_results = search.run(keywords)\n",
    "\n",
    "    final_answer = generate_answer_from_retrieved(search_results, query, image)\n",
    "\n",
    "    return final_answer"
   ]
  },
  {
   "cell_type": "code",
   "execution_count": null,
   "metadata": {
    "colab": {
     "base_uri": "https://localhost:8080/",
     "height": 70
    },
    "id": "SbRD3dqxEPcK",
    "outputId": "e14136fd-04c3-4721-be44-088ed127961e"
   },
   "outputs": [
    {
     "data": {
      "application/vnd.google.colaboratory.intrinsic+json": {
       "type": "string"
      },
      "text/plain": [
       "'The image is a portrait of Napoleon Bonaparte, a French military leader and emperor. The painting is a representation of Napoleon in his imperial attire, with a stern expression on his face. He is depicted standing in a room with a throne, a desk, and a clock on the wall. The painting is a realistic depiction of Napoleon, with attention to detail in his uniform and the surroundings.\\n\\n*Answer*: Napoleon Bonaparte.'"
      ]
     },
     "execution_count": 23,
     "metadata": {},
     "output_type": "execute_result"
    }
   ],
   "source": [
    "generate_web_answer(\"Who is the person in the picture?\", image)"
   ]
  }
 ],
 "metadata": {
  "accelerator": "GPU",
  "colab": {
   "gpuType": "T4",
   "provenance": []
  },
  "kernelspec": {
   "display_name": "Python 3 (ipykernel)",
   "language": "python",
   "name": "python3"
  },
  "language_info": {
   "codemirror_mode": {
    "name": "ipython",
    "version": 3
   },
   "file_extension": ".py",
   "mimetype": "text/x-python",
   "name": "python",
   "nbconvert_exporter": "python",
   "pygments_lexer": "ipython3",
   "version": "3.11.5"
  },
  "widgets": {
   "application/vnd.jupyter.widget-state+json": {
    "state": {},
    "version_major": 2,
    "version_minor": 0
   }
  }
 },
 "nbformat": 4,
 "nbformat_minor": 4
}
