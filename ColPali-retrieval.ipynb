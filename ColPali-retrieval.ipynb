{
 "cells": [
  {
   "cell_type": "code",
   "execution_count": null,
   "metadata": {
    "colab": {
     "base_uri": "https://localhost:8080/"
    },
    "collapsed": true,
    "id": "POkWBHNGedTa",
    "jupyter": {
     "outputs_hidden": true
    },
    "outputId": "606e93d8-64df-46cb-c1bc-ea3b30b082d3"
   },
   "outputs": [
    {
     "name": "stdout",
     "output_type": "stream",
     "text": [
      "Collecting colpali-engine\n",
      "  Downloading colpali_engine-0.3.2-py3-none-any.whl.metadata (13 kB)\n",
      "Collecting gputil (from colpali-engine)\n",
      "  Downloading GPUtil-1.4.0.tar.gz (5.5 kB)\n",
      "  Preparing metadata (setup.py) ... \u001b[?25l\u001b[?25hdone\n",
      "Requirement already satisfied: numpy<2.0.0 in /usr/local/lib/python3.10/dist-packages (from colpali-engine) (1.26.4)\n",
      "Collecting peft<0.12.0,>=0.11.0 (from colpali-engine)\n",
      "  Downloading peft-0.11.1-py3-none-any.whl.metadata (13 kB)\n",
      "Requirement already satisfied: pillow<11.0.0,>=9.2.0 in /usr/local/lib/python3.10/dist-packages (from colpali-engine) (10.4.0)\n",
      "Requirement already satisfied: requests in /usr/local/lib/python3.10/dist-packages (from colpali-engine) (2.32.3)\n",
      "Requirement already satisfied: torch>=2.2.0 in /usr/local/lib/python3.10/dist-packages (from colpali-engine) (2.4.1+cu121)\n",
      "Collecting transformers>=4.45.0 (from colpali-engine)\n",
      "  Downloading transformers-4.45.2-py3-none-any.whl.metadata (44 kB)\n",
      "\u001b[2K     \u001b[90m━━━━━━━━━━━━━━━━━━━━━━━━━━━━━━━━━━━━━━━━\u001b[0m \u001b[32m44.4/44.4 kB\u001b[0m \u001b[31m3.9 MB/s\u001b[0m eta \u001b[36m0:00:00\u001b[0m\n",
      "\u001b[?25hRequirement already satisfied: packaging>=20.0 in /usr/local/lib/python3.10/dist-packages (from peft<0.12.0,>=0.11.0->colpali-engine) (24.1)\n",
      "Requirement already satisfied: psutil in /usr/local/lib/python3.10/dist-packages (from peft<0.12.0,>=0.11.0->colpali-engine) (5.9.5)\n",
      "Requirement already satisfied: pyyaml in /usr/local/lib/python3.10/dist-packages (from peft<0.12.0,>=0.11.0->colpali-engine) (6.0.2)\n",
      "Requirement already satisfied: tqdm in /usr/local/lib/python3.10/dist-packages (from peft<0.12.0,>=0.11.0->colpali-engine) (4.66.5)\n",
      "Requirement already satisfied: accelerate>=0.21.0 in /usr/local/lib/python3.10/dist-packages (from peft<0.12.0,>=0.11.0->colpali-engine) (0.34.2)\n",
      "Requirement already satisfied: safetensors in /usr/local/lib/python3.10/dist-packages (from peft<0.12.0,>=0.11.0->colpali-engine) (0.4.5)\n",
      "Requirement already satisfied: huggingface-hub>=0.17.0 in /usr/local/lib/python3.10/dist-packages (from peft<0.12.0,>=0.11.0->colpali-engine) (0.24.7)\n",
      "Requirement already satisfied: filelock in /usr/local/lib/python3.10/dist-packages (from torch>=2.2.0->colpali-engine) (3.16.1)\n",
      "Requirement already satisfied: typing-extensions>=4.8.0 in /usr/local/lib/python3.10/dist-packages (from torch>=2.2.0->colpali-engine) (4.12.2)\n",
      "Requirement already satisfied: sympy in /usr/local/lib/python3.10/dist-packages (from torch>=2.2.0->colpali-engine) (1.13.3)\n",
      "Requirement already satisfied: networkx in /usr/local/lib/python3.10/dist-packages (from torch>=2.2.0->colpali-engine) (3.4.1)\n",
      "Requirement already satisfied: jinja2 in /usr/local/lib/python3.10/dist-packages (from torch>=2.2.0->colpali-engine) (3.1.4)\n",
      "Requirement already satisfied: fsspec in /usr/local/lib/python3.10/dist-packages (from torch>=2.2.0->colpali-engine) (2024.6.1)\n",
      "Requirement already satisfied: regex!=2019.12.17 in /usr/local/lib/python3.10/dist-packages (from transformers>=4.45.0->colpali-engine) (2024.9.11)\n",
      "Collecting tokenizers<0.21,>=0.20 (from transformers>=4.45.0->colpali-engine)\n",
      "  Downloading tokenizers-0.20.1-cp310-cp310-manylinux_2_17_x86_64.manylinux2014_x86_64.whl.metadata (6.7 kB)\n",
      "Requirement already satisfied: charset-normalizer<4,>=2 in /usr/local/lib/python3.10/dist-packages (from requests->colpali-engine) (3.4.0)\n",
      "Requirement already satisfied: idna<4,>=2.5 in /usr/local/lib/python3.10/dist-packages (from requests->colpali-engine) (3.10)\n",
      "Requirement already satisfied: urllib3<3,>=1.21.1 in /usr/local/lib/python3.10/dist-packages (from requests->colpali-engine) (2.2.3)\n",
      "Requirement already satisfied: certifi>=2017.4.17 in /usr/local/lib/python3.10/dist-packages (from requests->colpali-engine) (2024.8.30)\n",
      "Requirement already satisfied: MarkupSafe>=2.0 in /usr/local/lib/python3.10/dist-packages (from jinja2->torch>=2.2.0->colpali-engine) (3.0.1)\n",
      "Requirement already satisfied: mpmath<1.4,>=1.1.0 in /usr/local/lib/python3.10/dist-packages (from sympy->torch>=2.2.0->colpali-engine) (1.3.0)\n",
      "Downloading colpali_engine-0.3.2-py3-none-any.whl (37 kB)\n",
      "Downloading peft-0.11.1-py3-none-any.whl (251 kB)\n",
      "\u001b[2K   \u001b[90m━━━━━━━━━━━━━━━━━━━━━━━━━━━━━━━━━━━━━━━━\u001b[0m \u001b[32m251.6/251.6 kB\u001b[0m \u001b[31m19.1 MB/s\u001b[0m eta \u001b[36m0:00:00\u001b[0m\n",
      "\u001b[?25hDownloading transformers-4.45.2-py3-none-any.whl (9.9 MB)\n",
      "\u001b[2K   \u001b[90m━━━━━━━━━━━━━━━━━━━━━━━━━━━━━━━━━━━━━━━━\u001b[0m \u001b[32m9.9/9.9 MB\u001b[0m \u001b[31m103.7 MB/s\u001b[0m eta \u001b[36m0:00:00\u001b[0m\n",
      "\u001b[?25hDownloading tokenizers-0.20.1-cp310-cp310-manylinux_2_17_x86_64.manylinux2014_x86_64.whl (3.0 MB)\n",
      "\u001b[2K   \u001b[90m━━━━━━━━━━━━━━━━━━━━━━━━━━━━━━━━━━━━━━━━\u001b[0m \u001b[32m3.0/3.0 MB\u001b[0m \u001b[31m91.2 MB/s\u001b[0m eta \u001b[36m0:00:00\u001b[0m\n",
      "\u001b[?25hBuilding wheels for collected packages: gputil\n",
      "  Building wheel for gputil (setup.py) ... \u001b[?25l\u001b[?25hdone\n",
      "  Created wheel for gputil: filename=GPUtil-1.4.0-py3-none-any.whl size=7392 sha256=498681afa15119f26fba24c84b48273c553627ba23f899bc337c410d5dc6ba25\n",
      "  Stored in directory: /root/.cache/pip/wheels/a9/8a/bd/81082387151853ab8b6b3ef33426e98f5cbfebc3c397a9d4d0\n",
      "Successfully built gputil\n",
      "Installing collected packages: gputil, tokenizers, transformers, peft, colpali-engine\n",
      "  Attempting uninstall: tokenizers\n",
      "    Found existing installation: tokenizers 0.19.1\n",
      "    Uninstalling tokenizers-0.19.1:\n",
      "      Successfully uninstalled tokenizers-0.19.1\n",
      "  Attempting uninstall: transformers\n",
      "    Found existing installation: transformers 4.44.2\n",
      "    Uninstalling transformers-4.44.2:\n",
      "      Successfully uninstalled transformers-4.44.2\n",
      "Successfully installed colpali-engine-0.3.2 gputil-1.4.0 peft-0.11.1 tokenizers-0.20.1 transformers-4.45.2\n"
     ]
    }
   ],
   "source": [
    "%pip install colpali-engine"
   ]
  },
  {
   "cell_type": "code",
   "execution_count": null,
   "metadata": {
    "colab": {
     "base_uri": "https://localhost:8080/",
     "height": 612,
     "referenced_widgets": [
      "a258920d697e464189fd2e03295e7279",
      "301045c6e49b4ce086512cd4cd5463b9",
      "f0b5cf6274b74355b5b8f06a3efecc29",
      "8a325c0fe74d4a2ba096e491c56e84e8",
      "e062354e84674e7f8240ea0c58dd7da0",
      "fec72879f3c741c6bae0f463b7ad9b6e",
      "3a51b70c6fd343bdb65908485674c8a9",
      "a55d3cc5f2354e9fa373bf12f2242122",
      "ebed9d433b0642499d754e65a24fa494",
      "345beaf82ba2495184b5c6e1808039c6",
      "7d67700f66ae4638b1590b8c5bd057d2",
      "780381ee120e421e93e80711fa14911b",
      "aea106f1c28a4e48ab231bf92c29293f",
      "4272e5360ddc48d7bd97af70ac0309bb",
      "8df27fa8e058420b8a51507d0e0c2e91",
      "3d672b55f77a454586599ac147dbed08",
      "0a766043744e459fb484ffeae88091e9",
      "49c5251074da46b285be8a88eaf5c748",
      "985c170aa20249cd90d52ee98af0ef23",
      "c6a97740092042ee8874b371a3359a79",
      "f838f49b462d454e9fa746ab6b6fda3e",
      "6d9eae1dc38948a8ab2242214ebeacfd",
      "bf5eaf4d0af8454bace4ab6a4502f967",
      "f4d1ad97ed5f4b5dab77764482150f95",
      "8ff77d1549024ce7b581538483132979",
      "75b44e21d50648f8a555c31e98bbc9b9",
      "6e8868ca1dce41f6a839ac91067c7106",
      "6f4b8743b977437d88e66110f6aec71a",
      "9c9a9fa678b344dd977026dbaedb6842",
      "8f546e6175c54324bdbe3415e4ffdeb0",
      "3240cb3855724448a40fcffb68b71003",
      "feca2347766f475c910f7b258066f8f1",
      "49f9b21939b14411ac36be3328f77522",
      "d5def29b8bed442891bfaee84745b049",
      "aea48324a4fd4da891006fc1b5539317",
      "c3190276d9284e91b11d8c7182d23270",
      "7ba6470df79b4711bd982a0dfd7d1158",
      "1a0640d20dd6427f835ddbda8e1ff8ce",
      "9c708bf126c74fbe9ddeef5e068c26ed",
      "255d27530452468c9dc014ec1870ee4b",
      "27880eeea52946b09d30acdbb744b903",
      "d539474480b94ca69f11b0980e84beb3",
      "2e110a09fcba4e24b543d74b26affd9d",
      "65e493ba205548a3ac59ffb33a6108bc",
      "bfcf187a41874986adfc4d012a0762c5",
      "15c4b1a3d74e440db0035dcd778ea047",
      "c9108886618445cc9bacb32dc40fb7cd",
      "cbe903b997534646bbba49e2fcc89aae",
      "a05fcfc12edd4eb387e08d68aae047e6",
      "3eafe20210994dcb822d034b0435110f",
      "a680b122665a4e2bb6dabb70fac8758a",
      "5990605ce4e74c1b83ce114d7664f399",
      "c0e4be6971274a7e9782055fa73847ec",
      "fa7d53c02e264783a723d18dbdf45a00",
      "a98221d726eb4a76bf59f224480a8063",
      "cdd037c6579c487db2ca908c37aa84b2",
      "41e583c5a1994cee965d88124f5af4d2",
      "e5bb23df8d2240718cdbcfaa5b59fe1e",
      "cb78cad65dcd46c8a67e7c2f99e6cf8a",
      "2487471c04b9452c97f283e100df66da",
      "d8bcdaec593d49db8ec3bac7d1764fca",
      "c744ef9dd6594c179282cbd46a1c86b2",
      "d92d632b66e44fa0a9de7c6fd326a55e",
      "7121610b81ee4ae3825543149abdc959",
      "4ac646eba6d34977a068d3fd01546230",
      "553bbf12944d4e159c2f73834992779f",
      "e207fbc01f0e4d34a35e1c373bff25e1",
      "9c3d5ff7d890433fb421dbc96927f10e",
      "8423b35a9c3843d9aca5d0c352f1609a",
      "63532d7febbc424497f8eaab489b6679",
      "c70d87d8b7f746079fd52a1500e2aaad",
      "3932dce801754338a87a99ded28109f9",
      "901efb357e6a4a918ee00bbebf6efcb9",
      "4ad309ba432245f9955c441647144abc",
      "21b000a92b6145cfaeb99dadde4bdfe2",
      "beb8d85c9ae647eaacb153f85abf6569",
      "d21dc1944ba246c89ae13f46f62e0074",
      "9d5a86d0c7b045ea8095465ad52a92a5",
      "1b4c8c08155349de9960260f018b4e20",
      "ff5085ffed924736938e5b951413fdb3",
      "6dd385538bf542c1a9767d1378b8f41d",
      "ca16ac3a66ab48aaa4c976c24fc77ada",
      "38115b7cf40a44b38bf1ce05941da343",
      "9dea33fef8684f5889818db64fca1bca",
      "bd6bb10467754c63ab2c722c64b7ba26",
      "07d3090814004cf394bcc463ec7172e4",
      "1e0ee8320f38433a8439fa83a557a0d0",
      "f9ec33c354a84fbeb87cda5dcb35c789",
      "3a481065d7884f6b85fcf3d149fc3328",
      "33e62097c831410a881d88e953adf71f",
      "64b2029282de420d9dbb7b2a47623031",
      "41593941767c4acab891b8e7233a47ed",
      "a7568d68649947d293e1b10ac5b1de57",
      "08fb52d318c94526ae779181c86d3149",
      "66721b7bbf1f43cc9797cae733643eb9",
      "f47949ace730496ca90024e68e360114",
      "0f4f2b7506dc47eb8c5905b8762ea068",
      "e4a78211fcf447488b23359ced5206c9",
      "3d21639a852d4fa287d93689e7b09004",
      "670557fd22564d9e9514108a67e1b742",
      "87471c0a834b46c4a449c8e2b406d8a1",
      "a94ddb00b9c345239e787d77e2034df5",
      "d1498f396f044e5088fe290badfbeea1",
      "a653ae1fedb748728adba6697f2e6d06",
      "72a1e34e0d7c4fe7a026736602648d01",
      "8d379e274a4d4bb88ab8415aca8262c4",
      "1944a9c7b5e2416c9e62ef579b98660b",
      "da882a58957349d7966d0c4015b27525",
      "00579c58072b4e2abd0380e526acf853",
      "17245c7764c04214b0ac91da3a087064",
      "e1130e08810c41249e7219208f09baef",
      "6b1baf922c5d4a4386927399c3b50dc7",
      "968c68c4ba9c4dfab230b8cc946e9a11",
      "1e208f32ed764c44b3665444f10a0f99",
      "e261a4e4aedb40d188cfd0a04e37f0c9",
      "ed6114759b6a4c1b9a2f2ab5ee714c1a",
      "594c0094a7774424adbb7152adea3871",
      "0154380d15d543518811adec49aae4d3",
      "5a841f9140d446e78ff2f1f8ae08d213",
      "2156f2cccb3b4161ae4918595a7ceff5",
      "1f964382501a4ac0b4bdb6dc37368014",
      "35058d1f830c4b7e8dae744484f673f1",
      "9d147783faec4202b9f42ed6b8bea72b",
      "4a8a9034562c4c7989b6b2d2a4e51ffe",
      "2510b1f329b347b3b94fc8b9ecab8b4d",
      "3591f57d86eb49b5ba02550997f8378b",
      "f836fcd9db3a43de8144b5b38f5e2acb",
      "17c59860b3844578bb7d36b49cb201c0",
      "8ce34379d3534e65b6a1c8c7b32b00ac",
      "f610a5fff28449c8bdbeb946d8d12ca6",
      "1faf8d1c504841d9ba9c3be4a38d9da5",
      "cca653b47e5a4b26b29783f29e76a0e1"
     ]
    },
    "id": "KOSGPfG1filj",
    "outputId": "152dd125-7ea7-4a35-b4be-00f809135901"
   },
   "outputs": [
    {
     "name": "stderr",
     "output_type": "stream",
     "text": [
      "/usr/local/lib/python3.10/dist-packages/huggingface_hub/utils/_token.py:89: UserWarning: \n",
      "The secret `HF_TOKEN` does not exist in your Colab secrets.\n",
      "To authenticate with the Hugging Face Hub, create a token in your settings tab (https://huggingface.co/settings/tokens), set it as secret in your Google Colab and restart your session.\n",
      "You will be able to reuse this secret in all of your notebooks.\n",
      "Please note that authentication is recommended but still optional to access public models or datasets.\n",
      "  warnings.warn(\n"
     ]
    },
    {
     "data": {
      "application/vnd.jupyter.widget-view+json": {
       "model_id": "a258920d697e464189fd2e03295e7279",
       "version_major": 2,
       "version_minor": 0
      },
      "text/plain": [
       "adapter_config.json:   0%|          | 0.00/750 [00:00<?, ?B/s]"
      ]
     },
     "metadata": {},
     "output_type": "display_data"
    },
    {
     "data": {
      "application/vnd.jupyter.widget-view+json": {
       "model_id": "780381ee120e421e93e80711fa14911b",
       "version_major": 2,
       "version_minor": 0
      },
      "text/plain": [
       "config.json:   0%|          | 0.00/1.01k [00:00<?, ?B/s]"
      ]
     },
     "metadata": {},
     "output_type": "display_data"
    },
    {
     "data": {
      "application/vnd.jupyter.widget-view+json": {
       "model_id": "bf5eaf4d0af8454bace4ab6a4502f967",
       "version_major": 2,
       "version_minor": 0
      },
      "text/plain": [
       "model.safetensors.index.json:   0%|          | 0.00/66.3k [00:00<?, ?B/s]"
      ]
     },
     "metadata": {},
     "output_type": "display_data"
    },
    {
     "data": {
      "application/vnd.jupyter.widget-view+json": {
       "model_id": "d5def29b8bed442891bfaee84745b049",
       "version_major": 2,
       "version_minor": 0
      },
      "text/plain": [
       "Downloading shards:   0%|          | 0/2 [00:00<?, ?it/s]"
      ]
     },
     "metadata": {},
     "output_type": "display_data"
    },
    {
     "data": {
      "application/vnd.jupyter.widget-view+json": {
       "model_id": "bfcf187a41874986adfc4d012a0762c5",
       "version_major": 2,
       "version_minor": 0
      },
      "text/plain": [
       "model-00001-of-00002.safetensors:   0%|          | 0.00/4.99G [00:00<?, ?B/s]"
      ]
     },
     "metadata": {},
     "output_type": "display_data"
    },
    {
     "data": {
      "application/vnd.jupyter.widget-view+json": {
       "model_id": "cdd037c6579c487db2ca908c37aa84b2",
       "version_major": 2,
       "version_minor": 0
      },
      "text/plain": [
       "model-00002-of-00002.safetensors:   0%|          | 0.00/862M [00:00<?, ?B/s]"
      ]
     },
     "metadata": {},
     "output_type": "display_data"
    },
    {
     "name": "stderr",
     "output_type": "stream",
     "text": [
      "`config.hidden_act` is ignored, you should use `config.hidden_activation` instead.\n",
      "Gemma's activation function will be set to `gelu_pytorch_tanh`. Please, use\n",
      "`config.hidden_activation` if you want to override this behaviour.\n",
      "See https://github.com/huggingface/transformers/pull/29402 for more details.\n"
     ]
    },
    {
     "data": {
      "application/vnd.jupyter.widget-view+json": {
       "model_id": "e207fbc01f0e4d34a35e1c373bff25e1",
       "version_major": 2,
       "version_minor": 0
      },
      "text/plain": [
       "Loading checkpoint shards:   0%|          | 0/2 [00:00<?, ?it/s]"
      ]
     },
     "metadata": {},
     "output_type": "display_data"
    },
    {
     "data": {
      "application/vnd.jupyter.widget-view+json": {
       "model_id": "9d5a86d0c7b045ea8095465ad52a92a5",
       "version_major": 2,
       "version_minor": 0
      },
      "text/plain": [
       "adapter_model.safetensors:   0%|          | 0.00/78.6M [00:00<?, ?B/s]"
      ]
     },
     "metadata": {},
     "output_type": "display_data"
    },
    {
     "data": {
      "application/vnd.jupyter.widget-view+json": {
       "model_id": "3a481065d7884f6b85fcf3d149fc3328",
       "version_major": 2,
       "version_minor": 0
      },
      "text/plain": [
       "preprocessor_config.json:   0%|          | 0.00/700 [00:00<?, ?B/s]"
      ]
     },
     "metadata": {},
     "output_type": "display_data"
    },
    {
     "data": {
      "application/vnd.jupyter.widget-view+json": {
       "model_id": "670557fd22564d9e9514108a67e1b742",
       "version_major": 2,
       "version_minor": 0
      },
      "text/plain": [
       "tokenizer_config.json:   0%|          | 0.00/243k [00:00<?, ?B/s]"
      ]
     },
     "metadata": {},
     "output_type": "display_data"
    },
    {
     "data": {
      "application/vnd.jupyter.widget-view+json": {
       "model_id": "e1130e08810c41249e7219208f09baef",
       "version_major": 2,
       "version_minor": 0
      },
      "text/plain": [
       "tokenizer.json:   0%|          | 0.00/17.8M [00:00<?, ?B/s]"
      ]
     },
     "metadata": {},
     "output_type": "display_data"
    },
    {
     "data": {
      "application/vnd.jupyter.widget-view+json": {
       "model_id": "35058d1f830c4b7e8dae744484f673f1",
       "version_major": 2,
       "version_minor": 0
      },
      "text/plain": [
       "special_tokens_map.json:   0%|          | 0.00/733 [00:00<?, ?B/s]"
      ]
     },
     "metadata": {},
     "output_type": "display_data"
    },
    {
     "name": "stderr",
     "output_type": "stream",
     "text": [
      "Starting from v4.46, the `logits` model output will have the same type as the model (except at train time, where it will always be FP32)\n"
     ]
    }
   ],
   "source": [
    "from typing import cast\n",
    "import torch\n",
    "from PIL import Image\n",
    "\n",
    "from colpali_engine.models import ColPali, ColPaliProcessor\n",
    "\n",
    "model_name = \"vidore/colpali-v1.2\"\n",
    "\n",
    "model = ColPali.from_pretrained(\n",
    "    model_name,\n",
    "    torch_dtype=torch.bfloat16,\n",
    "    device_map=\"cuda:0\",  # or \"mps\" if on Apple Silicon\n",
    ").eval()\n",
    "\n",
    "processor = ColPaliProcessor.from_pretrained(model_name)"
   ]
  },
  {
   "cell_type": "code",
   "execution_count": null,
   "metadata": {
    "colab": {
     "base_uri": "https://localhost:8080/"
    },
    "id": "efsuUgBUlK04",
    "outputId": "decd73d5-c160-480c-b842-e8c8aee96b05"
   },
   "outputs": [
    {
     "data": {
      "text/plain": [
       "tensor([[10.4375,  9.1250, 12.0000, 10.3750]])"
      ]
     },
     "execution_count": 16,
     "metadata": {},
     "output_type": "execute_result"
    }
   ],
   "source": [
    "import requests\n",
    "\n",
    "images = [\n",
    "    Image.open(requests.get(\"https://upload.wikimedia.org/wikipedia/commons/6/66/Polar_Bear_-_Alaska_%28cropped%29.jpg\", stream=True).raw),\n",
    "    Image.open(requests.get(\"https://i.natgeofe.com/n/548467d8-c5f1-4551-9f58-6817a8d2c45e/NationalGeographic_2572187_3x4.jpg\", stream=True).raw),\n",
    "    Image.open(requests.get(\"https://upload.wikimedia.org/wikipedia/commons/thumb/a/a6/020_The_lion_king_Snyggve_in_the_Serengeti_National_Park_Photo_by_Giles_Laurent.jpg/1200px-020_The_lion_king_Snyggve_in_the_Serengeti_National_Park_Photo_by_Giles_Laurent.jpg\", stream=True).raw),\n",
    "    Image.open(requests.get(\"https://encrypted-tbn0.gstatic.com/images?q=tbn:ANd9GcT9bRtylHqixC905rBGogkzgMvrZ_rBiGKOCQ&s\", stream=True).raw),\n",
    "]\n",
    "queries = [\n",
    "    \"What does he do to become the king of the forest?\",\n",
    "]\n",
    "\n",
    "batch_images = processor.process_images(images).to(model.device)\n",
    "batch_queries = processor.process_queries(queries).to(model.device)\n",
    "\n",
    "with torch.no_grad():\n",
    "    image_embeddings = model(**batch_images)\n",
    "    querry_embeddings = model(**batch_queries)\n",
    "\n",
    "scores = processor.score_multi_vector(querry_embeddings, image_embeddings)\n",
    "\n",
    "scores"
   ]
  }
 ],
 "metadata": {
  "accelerator": "GPU",
  "colab": {
   "gpuType": "T4",
   "provenance": []
  },
  "kernelspec": {
   "display_name": "Python 3 (ipykernel)",
   "language": "python",
   "name": "python3"
  },
  "language_info": {
   "codemirror_mode": {
    "name": "ipython",
    "version": 3
   },
   "file_extension": ".py",
   "mimetype": "text/x-python",
   "name": "python",
   "nbconvert_exporter": "python",
   "pygments_lexer": "ipython3",
   "version": "3.11.5"
  },
  "widgets": {
   "application/vnd.jupyter.widget-state+json": {
    "state": {},
    "version_major": 2,
    "version_minor": 0
   }
  }
 },
 "nbformat": 4,
 "nbformat_minor": 4
}
