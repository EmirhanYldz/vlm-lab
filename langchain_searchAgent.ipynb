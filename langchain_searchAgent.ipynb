{
 "cells": [
  {
   "cell_type": "code",
   "execution_count": null,
   "metadata": {
    "id": "vOWaxTszaLu6"
   },
   "outputs": [],
   "source": [
    "%%capture --no-stderr\n",
    "%pip install -U langchain langchain_openai langsmith pandas langchain_experimental matplotlib langgraph langchain_core"
   ]
  },
  {
   "cell_type": "code",
   "execution_count": null,
   "metadata": {
    "id": "HTZL5LtXXc0G"
   },
   "outputs": [],
   "source": [
    "import os\n",
    "\n",
    "LANGCHAIN_TRACING_V2=\"true\"\n",
    "LANGCHAIN_ENDPOINT=\"https://api.smith.langchain.com\"\n",
    "LANGCHAIN_API_KEY=\"langchain_api\"\n",
    "LANGCHAIN_PROJECT=\"multi-agent\"\n",
    "\n",
    "os.environ[\"TAVILY_API_KEY\"] = \"tavily_api\"\n",
    "os.environ[\"LANGCHAIN_TRACING_V2\"] = LANGCHAIN_TRACING_V2\n",
    "os.environ[\"LANGCHAIN_ENDPOINT\"] = LANGCHAIN_ENDPOINT\n",
    "os.environ[\"LANGCHAIN_API_KEY\"] = LANGCHAIN_API_KEY\n",
    "os.environ[\"LANGCHAIN_PROJECT\"] = LANGCHAIN_PROJECT"
   ]
  },
  {
   "cell_type": "code",
   "execution_count": null,
   "metadata": {
    "id": "BNQv2R2ZbXUS"
   },
   "outputs": [],
   "source": [
    "from langchain_core.messages import (\n",
    "    BaseMessage,\n",
    "    HumanMessage,\n",
    "    ToolMessage,\n",
    ")\n",
    "from langchain_core.prompts import ChatPromptTemplate, MessagesPlaceholder\n",
    "\n",
    "from langgraph.graph import END, StateGraph, START\n",
    "\n",
    "\n",
    "def create_agent(llm, tools, system_message: str):\n",
    "    prompt = ChatPromptTemplate.from_messages(\n",
    "        [\n",
    "            (\n",
    "                \"system\",\n",
    "                \"You are a helpful AI assistant, collaborating with other assistants.\"\n",
    "                \" Use the provided tools to progress towards answering the question.\"\n",
    "                \" If you are unable to fully answer, that's OK, another assistant with different tools \"\n",
    "                \" will help where you left off. Execute what you can to make progress.\"\n",
    "                \" If you or any of the other assistants have the final answer or deliverable,\"\n",
    "                \" prefix your response with FINAL ANSWER so the team knows to stop.\"\n",
    "                \" You have access to the following tools: {tool_names}.\\n{system_message}\",\n",
    "            ),\n",
    "            MessagesPlaceholder(variable_name=\"messages\"),\n",
    "        ]\n",
    "    )\n",
    "    prompt = prompt.partial(system_message=system_message)\n",
    "    prompt = prompt.partial(tool_names=\", \".join([tool.name for tool in tools]))\n",
    "    return prompt | llm.bind_tools(tools)"
   ]
  },
  {
   "cell_type": "code",
   "execution_count": null,
   "metadata": {
    "id": "8XOBN2VabfKc"
   },
   "outputs": [],
   "source": [
    "from typing import Annotated\n",
    "\n",
    "from langchain_community.tools.tavily_search import TavilySearchResults\n",
    "from langchain_core.tools import tool\n",
    "from langchain_experimental.utilities import PythonREPL\n",
    "\n",
    "tavily_tool = TavilySearchResults(max_results=3)\n",
    "repl = PythonREPL()\n",
    "\n",
    "@tool\n",
    "def python_repl(\n",
    "    code: Annotated[str, \"The python code to execute to generate your chart.\"],\n",
    "):\n",
    "    try:\n",
    "        result = repl.run(code)\n",
    "    except BaseException as e:\n",
    "        return f\"Failed to execute. Error: {repr(e)}\"\n",
    "    result_str = f\"Successfully executed:\\n```python\\n{code}\\n```\\nStdout: {result}\"\n",
    "    return (\n",
    "        result_str + \"\\n\\nIf you have completed all tasks, respond with FINAL ANSWER.\"\n",
    "    )"
   ]
  },
  {
   "cell_type": "code",
   "execution_count": null,
   "metadata": {
    "id": "DfNMeV5BSV0x"
   },
   "outputs": [],
   "source": [
    "import operator\n",
    "from typing import Annotated, Sequence\n",
    "from typing_extensions import TypedDict\n",
    "\n",
    "class AgentState(TypedDict):\n",
    "    messages: Annotated[Sequence[BaseMessage], operator.add]\n",
    "    sender: str"
   ]
  },
  {
   "cell_type": "code",
   "execution_count": null,
   "metadata": {
    "colab": {
     "base_uri": "https://localhost:8080/"
    },
    "id": "nNGTD5kka9gV",
    "outputId": "7448b1b5-95eb-43d3-ff83-93ce2b2142ce"
   },
   "outputs": [
    {
     "name": "stdout",
     "output_type": "stream",
     "text": [
      "\u001b[?25l   \u001b[90m━━━━━━━━━━━━━━━━━━━━━━━━━━━━━━━━━━━━━━━━\u001b[0m \u001b[32m0.0/106.5 kB\u001b[0m \u001b[31m?\u001b[0m eta \u001b[36m-:--:--\u001b[0m\r",
      "\u001b[2K   \u001b[90m━━━━━━━━━━━━━━━━━━━━━━━━━━━━━━━━━━━━━━━━\u001b[0m \u001b[32m106.5/106.5 kB\u001b[0m \u001b[31m3.7 MB/s\u001b[0m eta \u001b[36m0:00:00\u001b[0m\n",
      "\u001b[?25h"
     ]
    }
   ],
   "source": [
    "%pip install -qU langchain-google-genai langchain-groq"
   ]
  },
  {
   "cell_type": "code",
   "execution_count": null,
   "metadata": {
    "id": "BwGtn-6BTfVn"
   },
   "outputs": [],
   "source": [
    "import functools\n",
    "from langchain_core.messages import AIMessage\n",
    "from langchain_google_genai import ChatGoogleGenerativeAI\n",
    "from langchain_groq import ChatGroq\n",
    "\n",
    "os.environ[\"GOOGLE_API_KEY\"] = \"GOOGLE_API\"\n",
    "os.environ[\"GROQ_API_KEY\"] = \"GROQ_API\"\n",
    "\n",
    "def agent_node(state, agent, name):\n",
    "    result = agent.invoke(state)\n",
    "    if isinstance(result, ToolMessage):\n",
    "        pass\n",
    "    else:\n",
    "        result = AIMessage(**result.dict(exclude={\"type\", \"name\"}), name=name)\n",
    "    return {\n",
    "        \"messages\": [result],\n",
    "        \"sender\": name,\n",
    "    }\n",
    "\n",
    "\"\"\"\n",
    "llm = ChatGoogleGenerativeAI(\n",
    "    model=\"gemini-1.5-pro-002\",\n",
    ")\n",
    "\"\"\"\n",
    "\n",
    "llm = ChatGroq(\n",
    "    model=\"llama-3.2-90b-text-preview\",\n",
    ")\n",
    "research_agent = create_agent(\n",
    "    llm,\n",
    "    [tavily_tool],\n",
    "    system_message=\"You should provide accurate data for the chart_generator to use.\",\n",
    ")\n",
    "research_node = functools.partial(agent_node, agent=research_agent, name=\"Researcher\")\n",
    "\n",
    "chart_agent = create_agent(\n",
    "    llm,\n",
    "    [python_repl],\n",
    "    system_message=\"Any charts you display will be visible by the user.\",\n",
    ")\n",
    "chart_node = functools.partial(agent_node, agent=chart_agent, name=\"chart_generator\")"
   ]
  },
  {
   "cell_type": "code",
   "execution_count": null,
   "metadata": {
    "id": "bKGN2R1Dbh5G"
   },
   "outputs": [],
   "source": [
    "from langgraph.prebuilt import ToolNode\n",
    "\n",
    "tools = [tavily_tool, python_repl]\n",
    "tool_node = ToolNode(tools)"
   ]
  },
  {
   "cell_type": "code",
   "execution_count": null,
   "metadata": {
    "id": "SmB3ZD0QbreV"
   },
   "outputs": [],
   "source": [
    "from typing import Literal\n",
    "\n",
    "def router(state):\n",
    "    messages = state[\"messages\"]\n",
    "    last_message = messages[-1]\n",
    "    if last_message.tool_calls:\n",
    "        return \"call_tool\"\n",
    "    if \"FINAL ANSWER\" in last_message.content:\n",
    "        return END\n",
    "    return \"continue\""
   ]
  },
  {
   "cell_type": "code",
   "execution_count": null,
   "metadata": {
    "id": "ZFFmpxv7bvZu"
   },
   "outputs": [],
   "source": [
    "workflow = StateGraph(AgentState)\n",
    "\n",
    "workflow.add_node(\"Researcher\", research_node)\n",
    "workflow.add_node(\"chart_generator\", chart_node)\n",
    "workflow.add_node(\"call_tool\", tool_node)\n",
    "\n",
    "workflow.add_conditional_edges(\n",
    "    \"Researcher\",\n",
    "    router,\n",
    "    {\"continue\": \"chart_generator\", \"call_tool\": \"call_tool\", END: END},\n",
    ")\n",
    "workflow.add_conditional_edges(\n",
    "    \"chart_generator\",\n",
    "    router,\n",
    "    {\"continue\": \"Researcher\", \"call_tool\": \"call_tool\", END: END},\n",
    ")\n",
    "\n",
    "workflow.add_conditional_edges(\n",
    "    \"call_tool\",\n",
    "    lambda x: x[\"sender\"],\n",
    "    {\n",
    "        \"Researcher\": \"Researcher\",\n",
    "        \"chart_generator\": \"chart_generator\",\n",
    "    },\n",
    ")\n",
    "workflow.add_edge(START, \"Researcher\")\n",
    "graph = workflow.compile()"
   ]
  },
  {
   "cell_type": "code",
   "execution_count": null,
   "metadata": {
    "colab": {
     "base_uri": "https://localhost:8080/",
     "height": 389
    },
    "id": "nd5CtDz1byr0",
    "outputId": "7eeaf5e6-f173-4e6e-e44e-2fd83f8eabbb"
   },
   "outputs": [
    {
     "data": {
      "image/jpeg": "[encoded data removed]",
      "text/plain": [
       "<IPython.core.display.Image object>"
      ]
     },
     "metadata": {},
     "output_type": "display_data"
    }
   ],
   "source": [
    "from IPython.display import Image, display\n",
    "\n",
    "try:\n",
    "    display(Image(graph.get_graph(xray=True).draw_mermaid_png()))\n",
    "except Exception:\n",
    "    pass"
   ]
  },
  {
   "cell_type": "code",
   "execution_count": null,
   "metadata": {
    "colab": {
     "base_uri": "https://localhost:8080/"
    },
    "id": "FhvgqDLPb8vV",
    "outputId": "a831a3b5-f80c-4dbe-9339-3f5677a8327d"
   },
   "outputs": [
    {
     "name": "stdout",
     "output_type": "stream",
     "text": [
      "{'Researcher': {'messages': [AIMessage(content='', additional_kwargs={'tool_calls': [{'id': 'call_9d7f', 'function': {'arguments': '{\"query\": \"UK GDP past 5 years\"}', 'name': 'tavily_search_results_json'}, 'type': 'function'}]}, response_metadata={'token_usage': {'completion_tokens': 23, 'prompt_tokens': 408, 'total_tokens': 431, 'completion_time': 0.092, 'prompt_time': 0.074919988, 'queue_time': 0.004184436999999999, 'total_time': 0.166919988}, 'model_name': 'llama-3.2-90b-text-preview', 'system_fingerprint': 'fp_5c5d1b5cfb', 'finish_reason': 'tool_calls', 'logprobs': None}, name='Researcher', id='run-d30e82df-e59e-467d-87ea-c1d73047079a-0', tool_calls=[{'name': 'tavily_search_results_json', 'args': {'query': 'UK GDP past 5 years'}, 'id': 'call_9d7f', 'type': 'tool_call'}], usage_metadata={'input_tokens': 408, 'output_tokens': 23, 'total_tokens': 431})], 'sender': 'Researcher'}}\n",
      "----\n",
      "{'call_tool': {'messages': [ToolMessage(content='[{\"url\": \"https://tradingeconomics.com/united-kingdom/gdp-growth-annual\", \"content\": \"source: Office for National Statistics\\\\nThe Gross Domestic Product (GDP) in the United Kingdom expanded 0.30 percent in the third quarter of 2023 over the same quarter of the previous year.\\\\n GDP Annual Growth Rate in the United Kingdom averaged 2.35 percent from 1956 until 2023, reaching an all time high of 25.70 percent in the second quarter of 2021 and a record low of -21.90 percent in the second quarter of 2020. United Kingdom GDP Annual Growth Rate\\\\nThe British economy expanded 0.3% year-on-year in the third quarter of 2023, half the initial estimate of 0.6%, and matching the Q2 growth which was also revised down to 0.3% from 0.6%. The Gross Domestic Product (GDP) in the United Kingdom expanded 0.30 percent in the third quarter of 2023 over the same quarter of the previous year. Markets\\\\nGDP\\\\nLabour\\\\nPrices\\\\nHealth\\\\nMoney\\\\nTrade\\\\nGovernment\\\\nBusiness\\\\nConsumer\\\\nHousing\\\\nTaxes\\\\nClimate\"}, {\"url\": \"https://tradingeconomics.com/united-kingdom/gdp\", \"content\": \"Get the latest data and forecast for the Gross Domestic Product (GDP) in the United Kingdom, including historical trends, components, and comparison with other countries. The GDP in the UK was worth 3340.03 billion US dollars in 2023, according to the World Bank.\"}, {\"url\": \"https://www.macrotrends.net/global-metrics/countries/GBR/united-kingdom/gdp-gross-domestic-product\", \"content\": \"See the historical data and trends of U.K. gross domestic product (GDP) in current U.S. dollars from 1960 to 2024. Compare U.K. GDP with other countries and download the data in various formats.\"}]', name='tavily_search_results_json', tool_call_id='call_9d7f', artifact={'query': 'UK GDP past 5 years', 'follow_up_questions': None, 'answer': None, 'images': [], 'results': [{'title': 'United Kingdom GDP Annual Growth Rate - TRADING ECONOMICS', 'url': 'https://tradingeconomics.com/united-kingdom/gdp-growth-annual', 'content': 'source: Office for National Statistics\\nThe Gross Domestic Product (GDP) in the United Kingdom expanded 0.30 percent in the third quarter of 2023 over the same quarter of the previous year.\\n GDP Annual Growth Rate in the United Kingdom averaged 2.35 percent from 1956 until 2023, reaching an all time high of 25.70 percent in the second quarter of 2021 and a record low of -21.90 percent in the second quarter of 2020. United Kingdom GDP Annual Growth Rate\\nThe British economy expanded 0.3% year-on-year in the third quarter of 2023, half the initial estimate of 0.6%, and matching the Q2 growth which was also revised down to 0.3% from 0.6%. The Gross Domestic Product (GDP) in the United Kingdom expanded 0.30 percent in the third quarter of 2023 over the same quarter of the previous year. Markets\\nGDP\\nLabour\\nPrices\\nHealth\\nMoney\\nTrade\\nGovernment\\nBusiness\\nConsumer\\nHousing\\nTaxes\\nClimate', 'score': 0.9637117, 'raw_content': None}, {'title': 'United Kingdom GDP - TRADING ECONOMICS', 'url': 'https://tradingeconomics.com/united-kingdom/gdp', 'content': 'Get the latest data and forecast for the Gross Domestic Product (GDP) in the United Kingdom, including historical trends, components, and comparison with other countries. The GDP in the UK was worth 3340.03 billion US dollars in 2023, according to the World Bank.', 'score': 0.9405718, 'raw_content': None}, {'title': 'U.K. GDP 1960-2024 - Macrotrends', 'url': 'https://www.macrotrends.net/global-metrics/countries/GBR/united-kingdom/gdp-gross-domestic-product', 'content': 'See the historical data and trends of U.K. gross domestic product (GDP) in current U.S. dollars from 1960 to 2024. Compare U.K. GDP with other countries and download the data in various formats.', 'score': 0.93880075, 'raw_content': None}], 'response_time': 2.46})]}}\n",
      "----\n",
      "{'Researcher': {'messages': [AIMessage(content='', additional_kwargs={'tool_calls': [{'id': 'call_1ms4', 'function': {'arguments': '{\"query\": \"nominal UK GDP 2021\"}', 'name': 'tavily_search_results_json'}, 'type': 'function'}]}, response_metadata={'token_usage': {'completion_tokens': 24, 'prompt_tokens': 865, 'total_tokens': 889, 'completion_time': 0.096, 'prompt_time': 0.173067347, 'queue_time': 0.0035981099999999877, 'total_time': 0.269067347}, 'model_name': 'llama-3.2-90b-text-preview', 'system_fingerprint': 'fp_5c5d1b5cfb', 'finish_reason': 'tool_calls', 'logprobs': None}, name='Researcher', id='run-98ceab8c-391c-4468-b9aa-87564c672de2-0', tool_calls=[{'name': 'tavily_search_results_json', 'args': {'query': 'nominal UK GDP 2021'}, 'id': 'call_1ms4', 'type': 'tool_call'}], usage_metadata={'input_tokens': 865, 'output_tokens': 24, 'total_tokens': 889})], 'sender': 'Researcher'}}\n",
      "----\n",
      "{'call_tool': {'messages': [ToolMessage(content='[{\"url\": \"https://www.ons.gov.uk/economy/grossdomesticproductgdp/bulletins/gdpfirstquarterlyestimateuk/octobertodecember2021\", \"content\": \"Because of quarterly GDP being a balanced measure of the three approaches and the output approach focusing solely on growth in gross value added (GVA) and output as a proxy for GDP, there is a difference in 2019 and 2020 data (in both levels and growths terms) between the quarterly publications (average GDP) and the GDP monthly estimate (output approach to GDP). Excluding non-monetary gold, the trade deficit remained at negative 2.2% of nominal GDP in Quarter 4.\\\\nFigure 7: The UK’s trade balance was negative 1.1% of nominal GDP in Quarter 4 2021\\\\nTotal export volumes rose by 4.9% in Quarter 4 2021, driven by an 11.2% increase in the exports of goods, specifically fuels, chemicals, and machinery and transport equipment. Measuring the data\\\\nReaching the GDP balance\\\\nThe different data content and quality of the three approaches – the output approach, the expenditure approach and the income approach – dictates the approach taken in balancing quarterly data. In output terms, the largest contributors to this quarterly increase were from human health and social work activities driven by increased GP visits at the start of the quarter, and a large increase in coronavirus (COVID-19) testing and tracing activities and the extension of the vaccination programme.\\\\n In particular in December 2021, there was a 51% increase in coronavirus testing output in England driven by an increase in both number of tests processed in laboratories and number of lateral flow devices dispatched, and a 19% increase in coronavirus vaccination output driven by the booster programme.\\\\n\"}, {\"url\": \"https://countryeconomy.com/gdp/uk?year=2021\", \"content\": \"Main navigation\\\\nTop menu\\\\nUnited Kingdom (UK) GDP - Gross Domestic Product\\\\nGDP United Kingdom 2021\\\\nGDP grows 8.7% in United Kingdom\\\\nGross Domestic Product of United Kingdom grew 8.7% in 2021 compared to last year. You can see GDP in other countries in GDP and see all the economic information about United Kingdom in\\\\nUnited Kingdom\\'s economy.\\\\n#COVID-19: 01/21/2024\\\\nCompare countries\\\\nLatest published data\\\\nLinks Your Interests\\\\nCountry Data\\\\nSecondary menu If we order the countries according to their GDP per capita, United Kingdom is well positioned in terms of the standard of living of its population, coming 24th out of\\\\nthe 196 countries whose GDP we publish.\\\\n To view the evolution of the GDP per capita, it is interesting to look back a few years and compare these data with those of 2011 when the GDP per capita in United Kingdom was €30,230$42,148.\\\\n The GDP figure in 2021 was €2,638,924$3,123,230 million, leaving United Kingdom placed 6th in the ranking of GDP of the 196 countries that we publish.\"}, {\"url\": \"https://www.beta.ons.gov.uk/economy/grossdomesticproductgdp/compendium/unitedkingdomnationalaccountsthebluebook/2022/nationalaccountsataglance\", \"content\": \"Figure 1: The UK economy increased by 7.5% in 2021, having seen the largest fall in over 300 years in 2020\\\\nAll the G20 economies experienced a rise in real GDP in 2021, recovering towards their 2019 levels (Figure 2) as there was a re-opening of these economies following the restrictions in place in the previous year. This led to a very large increase in the implied price of GDP in 2020, which then unwound in 2021 from this higher level.\\\\nFigure 4: Measurement challenges have complicated the international comparability of the implied price of UK GDP over 2020 and 2021\\\\n3. Figure 7: Households and financial corporations maintained their improved financial position in 2021 relative to 2019, while government net borrowing remained above its 2019 level\\\\nThe reduced ability of households to spend money on consumption in 2020 led to a record increase in the holdings of currency and deposits as assets. Spending in the UK economy\\\\nHouseholds’ final consumption expenditure rose by 6.2% in 2021, partially offsetting the 12.9% fall seen in 2020 (Figure 6), where it was boosted by the easing of coronavirus (COVID-19) restrictions, particularly in types of social consumption. The largest rises in output in 2021 were in the accommodation and food services (31.6%); human health and social work (22.2%); and arts, entertainment, and recreation (20.3%) industries, where the lifting of restrictions had most impact.\"}]', name='tavily_search_results_json', tool_call_id='call_1ms4', artifact={'query': 'nominal UK GDP 2021', 'follow_up_questions': None, 'answer': None, 'images': [], 'results': [{'title': 'GDP first quarterly estimate, UK: October to December 2021', 'url': 'https://www.ons.gov.uk/economy/grossdomesticproductgdp/bulletins/gdpfirstquarterlyestimateuk/octobertodecember2021', 'content': 'Because of quarterly GDP being a balanced measure of the three approaches and the output approach focusing solely on growth in gross value added (GVA) and output as a proxy for GDP, there is a difference in 2019 and 2020 data (in both levels and growths terms) between the quarterly publications (average GDP) and the GDP monthly estimate (output approach to GDP). Excluding non-monetary gold, the trade deficit remained at negative 2.2% of nominal GDP in Quarter 4.\\nFigure 7: The UK’s trade balance was negative 1.1% of nominal GDP in Quarter 4 2021\\nTotal export volumes rose by 4.9% in Quarter 4 2021, driven by an 11.2% increase in the exports of goods, specifically fuels, chemicals, and machinery and transport equipment. Measuring the data\\nReaching the GDP balance\\nThe different data content and quality of the three approaches – the output approach, the expenditure approach and the income approach – dictates the approach taken in balancing quarterly data. In output terms, the largest contributors to this quarterly increase were from human health and social work activities driven by increased GP visits at the start of the quarter, and a large increase in coronavirus (COVID-19) testing and tracing activities and the extension of the vaccination programme.\\n In particular in December 2021, there was a 51% increase in coronavirus testing output in England driven by an increase in both number of tests processed in laboratories and number of lateral flow devices dispatched, and a 19% increase in coronavirus vaccination output driven by the booster programme.\\n', 'score': 0.9666631, 'raw_content': None}, {'title': 'United Kingdom (UK) GDP - Gross Domestic Product 2021', 'url': 'https://countryeconomy.com/gdp/uk?year=2021', 'content': \"Main navigation\\nTop menu\\nUnited Kingdom (UK) GDP - Gross Domestic Product\\nGDP United Kingdom 2021\\nGDP grows 8.7% in United Kingdom\\nGross Domestic Product of United Kingdom grew 8.7% in 2021 compared to last year. You can see GDP in other countries in GDP and see all the economic information about United Kingdom in\\nUnited Kingdom's economy.\\n#COVID-19: 01/21/2024\\nCompare countries\\nLatest published data\\nLinks Your Interests\\nCountry Data\\nSecondary menu If we order the countries according to their GDP per capita, United Kingdom is well positioned in terms of the standard of living of its population, coming 24th out of\\nthe 196 countries whose GDP we publish.\\n To view the evolution of the GDP per capita, it is interesting to look back a few years and compare these data with those of 2011 when the GDP per capita in United Kingdom was €30,230$42,148.\\n The GDP figure in 2021 was €2,638,924$3,123,230 million, leaving United Kingdom placed 6th in the ranking of GDP of the 196 countries that we publish.\", 'score': 0.9427181, 'raw_content': None}, {'title': 'National accounts at a glance - Office for National Statistics', 'url': 'https://www.beta.ons.gov.uk/economy/grossdomesticproductgdp/compendium/unitedkingdomnationalaccountsthebluebook/2022/nationalaccountsataglance', 'content': 'Figure 1: The UK economy increased by 7.5% in 2021, having seen the largest fall in over 300 years in 2020\\nAll the G20 economies experienced a rise in real GDP in 2021, recovering towards their 2019 levels (Figure 2) as there was a re-opening of these economies following the restrictions in place in the previous year. This led to a very large increase in the implied price of GDP in 2020, which then unwound in 2021 from this higher level.\\nFigure 4: Measurement challenges have complicated the international comparability of the implied price of UK GDP over 2020 and 2021\\n3. Figure 7: Households and financial corporations maintained their improved financial position in 2021 relative to 2019, while government net borrowing remained above its 2019 level\\nThe reduced ability of households to spend money on consumption in 2020 led to a record increase in the holdings of currency and deposits as assets. Spending in the UK economy\\nHouseholds’ final consumption expenditure rose by 6.2% in 2021, partially offsetting the 12.9% fall seen in 2020 (Figure 6), where it was boosted by the easing of coronavirus (COVID-19) restrictions, particularly in types of social consumption. The largest rises in output in 2021 were in the accommodation and food services (31.6%); human health and social work (22.2%); and arts, entertainment, and recreation (20.3%) industries, where the lifting of restrictions had most impact.', 'score': 0.8153795, 'raw_content': None}], 'response_time': 2.04})]}}\n",
      "----\n",
      "{'Researcher': {'messages': [AIMessage(content='', additional_kwargs={'tool_calls': [{'id': 'call_xwnt', 'function': {'arguments': '{\"query\": \"nominal UK GDP 2022\"}', 'name': 'tavily_search_results_json'}, 'type': 'function'}]}, response_metadata={'token_usage': {'completion_tokens': 24, 'prompt_tokens': 1932, 'total_tokens': 1956, 'completion_time': 0.096, 'prompt_time': 0.360685912, 'queue_time': 0.003668349999999987, 'total_time': 0.456685912}, 'model_name': 'llama-3.2-90b-text-preview', 'system_fingerprint': 'fp_b3ae7e594e', 'finish_reason': 'tool_calls', 'logprobs': None}, name='Researcher', id='run-fcd023ce-885f-4f5c-86f0-f2beb6701cc2-0', tool_calls=[{'name': 'tavily_search_results_json', 'args': {'query': 'nominal UK GDP 2022'}, 'id': 'call_xwnt', 'type': 'tool_call'}], usage_metadata={'input_tokens': 1932, 'output_tokens': 24, 'total_tokens': 1956})], 'sender': 'Researcher'}}\n",
      "----\n",
      "{'call_tool': {'messages': [ToolMessage(content='[{\"url\": \"https://www.macrotrends.net/global-metrics/countries/GBR/united-kingdom/gdp-gross-domestic-product\", \"content\": \"U.K. gdp for 2022 was $3,088.84B, a 1.68% decline from 2021.\"}, {\"url\": \"https://countryeconomy.com/gdp/uk?year=2022\", \"content\": \"Main navigation\\\\nTop menu\\\\nUnited Kingdom (UK) GDP - Gross Domestic Product\\\\nGDP United Kingdom 2022\\\\nGDP grows 4.3% in United Kingdom\\\\nGross Domestic Product of United Kingdom grew 4.3% in 2022 compared to last year. You can see GDP in other countries in GDP and see all the economic information about United Kingdom in\\\\nUnited Kingdom\\'s economy.\\\\n#COVID-19: 02/04/2024\\\\nCompare countries\\\\nLatest published data\\\\nLinks Your Interests\\\\nCountry Data\\\\nSecondary menu If we order the countries according to their GDP per capita, United Kingdom is well positioned in terms of the standard of living of its population, coming 25th out of\\\\nthe 196 countries whose GDP we publish.\\\\n To view the evolution of the GDP per capita, it is interesting to look back a few years and compare these data with those of 2012 when the GDP per capita in United Kingdom was €33,140$42,490.\\\\n The GDP figure in 2022 was €2,924,314$3,081,870 million, leaving United Kingdom placed 6th in the ranking of GDP of the 196 countries that we publish.\"}, {\"url\": \"https://www.ons.gov.uk/economy/grossdomesticproductgdp/bulletins/quarterlynationalaccounts/januarytomarch2022\", \"content\": \"Because of quarterly GDP being a balanced measure of the three approaches and the output approach focusing solely on growth in gross value added (GVA) and output as a proxy for GDP, there is a difference in 2020 and 2021 data (in both levels and growths terms) between the quarterly publications (average GDP) and the GDP monthly estimate (output approach to GDP). Important quality information\\\\nThere are common pitfalls in interpreting data series, and these include:\\\\nexpectations of accuracy and reliability in early estimates are often too high\\\\nrevisions are an inevitable consequence of the trade-off between timeliness and accuracy\\\\nearly estimates are based on incomplete data\\\\nVery few statistical revisions arise as a result of \\\\\"errors\\\\\" in the popular sense of the word. Non-financial account net lending and borrowing (seasonally adjusted)\\\\nFigure 9 shows that, in the non-financial account, the UK\\'s borrowing position with the rest of the world was 8.4% as a percentage of GDP in Quarter 1 2022, with UK borrowing increasing from 1.3% of GDP in Quarter 4 (Oct to Dec) 2021. This reflects how we record volume estimates of health and education as explained in our blog, Public services: measuring the part they play in the economy through the pandemic.\\\\nSource: Office for National Statistics – GDP quarterly national accounts\\\\nNotes\\\\nFigure 2 shows the latest quarterly change in nominal and real GDP for the G7 economies. Measuring the data\\\\nReaching the gross domestic product (GDP) balance\\\\nThe different data content and quality of the three approaches – the output approach, the expenditure approach and the income approach –dictate the approach taken in balancing quarterly data.\\xa0\"}]', name='tavily_search_results_json', tool_call_id='call_xwnt', artifact={'query': 'nominal UK GDP 2022', 'follow_up_questions': None, 'answer': None, 'images': [], 'results': [{'title': 'U.K. GDP 1960-2024 - Macrotrends', 'url': 'https://www.macrotrends.net/global-metrics/countries/GBR/united-kingdom/gdp-gross-domestic-product', 'content': 'U.K. gdp for 2022 was $3,088.84B, a 1.68% decline from 2021.', 'score': 0.9975274, 'raw_content': None}, {'title': 'United Kingdom (UK) GDP - Gross Domestic Product 2022', 'url': 'https://countryeconomy.com/gdp/uk?year=2022', 'content': \"Main navigation\\nTop menu\\nUnited Kingdom (UK) GDP - Gross Domestic Product\\nGDP United Kingdom 2022\\nGDP grows 4.3% in United Kingdom\\nGross Domestic Product of United Kingdom grew 4.3% in 2022 compared to last year. You can see GDP in other countries in GDP and see all the economic information about United Kingdom in\\nUnited Kingdom's economy.\\n#COVID-19: 02/04/2024\\nCompare countries\\nLatest published data\\nLinks Your Interests\\nCountry Data\\nSecondary menu If we order the countries according to their GDP per capita, United Kingdom is well positioned in terms of the standard of living of its population, coming 25th out of\\nthe 196 countries whose GDP we publish.\\n To view the evolution of the GDP per capita, it is interesting to look back a few years and compare these data with those of 2012 when the GDP per capita in United Kingdom was €33,140$42,490.\\n The GDP figure in 2022 was €2,924,314$3,081,870 million, leaving United Kingdom placed 6th in the ranking of GDP of the 196 countries that we publish.\", 'score': 0.95362186, 'raw_content': None}, {'title': 'GDP quarterly national accounts, UK: January to March 2022', 'url': 'https://www.ons.gov.uk/economy/grossdomesticproductgdp/bulletins/quarterlynationalaccounts/januarytomarch2022', 'content': 'Because of quarterly GDP being a balanced measure of the three approaches and the output approach focusing solely on growth in gross value added (GVA) and output as a proxy for GDP, there is a difference in 2020 and 2021 data (in both levels and growths terms) between the quarterly publications (average GDP) and the GDP monthly estimate (output approach to GDP). Important quality information\\nThere are common pitfalls in interpreting data series, and these include:\\nexpectations of accuracy and reliability in early estimates are often too high\\nrevisions are an inevitable consequence of the trade-off between timeliness and accuracy\\nearly estimates are based on incomplete data\\nVery few statistical revisions arise as a result of \"errors\" in the popular sense of the word. Non-financial account net lending and borrowing (seasonally adjusted)\\nFigure 9 shows that, in the non-financial account, the UK\\'s borrowing position with the rest of the world was 8.4% as a percentage of GDP in Quarter 1 2022, with UK borrowing increasing from 1.3% of GDP in Quarter 4 (Oct to Dec) 2021. This reflects how we record volume estimates of health and education as explained in our blog, Public services: measuring the part they play in the economy through the pandemic.\\nSource: Office for National Statistics – GDP quarterly national accounts\\nNotes\\nFigure 2 shows the latest quarterly change in nominal and real GDP for the G7 economies. Measuring the data\\nReaching the gross domestic product (GDP) balance\\nThe different data content and quality of the three approaches – the output approach, the expenditure approach and the income approach –dictate the approach taken in balancing quarterly data.\\xa0', 'score': 0.8477158, 'raw_content': None}], 'response_time': 2.23})]}}\n",
      "----\n",
      "{'Researcher': {'messages': [AIMessage(content='', additional_kwargs={'tool_calls': [{'id': 'call_an46', 'function': {'arguments': '{\"query\": \"nominal UK GDP 2020\"}', 'name': 'tavily_search_results_json'}, 'type': 'function'}]}, response_metadata={'token_usage': {'completion_tokens': 24, 'prompt_tokens': 2704, 'total_tokens': 2728, 'completion_time': 0.096, 'prompt_time': 0.487581178, 'queue_time': 0.003974385999999996, 'total_time': 0.583581178}, 'model_name': 'llama-3.2-90b-text-preview', 'system_fingerprint': 'fp_9260b4bb2e', 'finish_reason': 'tool_calls', 'logprobs': None}, name='Researcher', id='run-869a5c8c-6578-47c3-a4a8-173e13ff4028-0', tool_calls=[{'name': 'tavily_search_results_json', 'args': {'query': 'nominal UK GDP 2020'}, 'id': 'call_an46', 'type': 'tool_call'}], usage_metadata={'input_tokens': 2704, 'output_tokens': 24, 'total_tokens': 2728})], 'sender': 'Researcher'}}\n",
      "----\n",
      "{'call_tool': {'messages': [ToolMessage(content='[{\"url\": \"https://www.macrotrends.net/global-metrics/countries/GBR/united-kingdom/gdp-gross-domestic-product\", \"content\": \"U.K. gdp for 2022 was $3,088.84B, a 1.68% decline from 2021. U.K. gdp for 2021 was $3,141.51B, a 16.45% increase from 2020. U.K. gdp for 2020 was $2,697.81B, a 5.39% decline from 2019. GDP at purchaser\\'s prices is the sum of gross value added by all resident producers in the economy plus any product taxes and minus any subsidies not included in\"}, {\"url\": \"https://www.gov.uk/government/statistics/gdp-quarterly-national-accounts-uk-october-to-december-2020\", \"content\": \"GDP quarterly national accounts, UK: October to December 2020. Revised quarterly estimate of gross domestic product (GDP) for the UK. Uses additional data to provide a more precise indication of\"}, {\"url\": \"https://www.ons.gov.uk/economy/grossdomesticproductgdp/bulletins/quarterlynationalaccounts/octobertodecember2020\", \"content\": \"Non-financial corporations switched from a net lending position in Quarter 3 to a net borrowing position in Quarter 4; general government saw a decrease in their net borrowing position to 11.0% of GDP compared with 12.9% in Quarter 3.\\\\nGDP estimates for Quarter 4 2020 are subject to more uncertainty than usual as a result of the challenges we faced estimating GDP in the current conditions.\\\\n The report highlights the contrast between the first and second half of the year, noting that “COVID-19 dealt a huge blow to earnings expectations in the first half of 2020, triggering record levels of warnings” and adding that “by the second half, expectations adjusted, demand recovered, and profit warnings fell below average – even as COVID-19 restrictions increased in the final quarter”.\\\\n As the shape of the UK’s future statistical relationship with the EU becomes clearer over the coming period, the Office for National Statistics (ONS) is making preparations to assume responsibilities that as part of our membership of the EU, and during the transition period, were delegated to the statistical office of the EU, Eurostat. Construction output in Great Britain: January 2021\\\\nBulletin | Released 12 March 2021\\\\nShort-term measures of output by the construction industry in Great Britain and contracts awarded for new construction work in Great Britain.\\\\nIndex of Production, UK: January 2021\\\\nBulletin | Released 12 March 2021\\\\nMovements in the volume of production for the UK production industries: manufacturing, mining and quarrying, energy supply, and water and waste management. The implied deflator fell by 0.5% in Quarter 4 2020, which primarily reflects movements in the implied price change of government consumption which fell by a revised 3.1% – this was revised from the previous estimate of a 1.2% increase because of revisions to final consumption expenditure in health in the fourth quarter.\"}]', name='tavily_search_results_json', tool_call_id='call_an46', artifact={'query': 'nominal UK GDP 2020', 'follow_up_questions': None, 'answer': None, 'images': [], 'results': [{'title': 'U.K. GDP 1960-2024 - Macrotrends', 'url': 'https://www.macrotrends.net/global-metrics/countries/GBR/united-kingdom/gdp-gross-domestic-product', 'content': \"U.K. gdp for 2022 was $3,088.84B, a 1.68% decline from 2021. U.K. gdp for 2021 was $3,141.51B, a 16.45% increase from 2020. U.K. gdp for 2020 was $2,697.81B, a 5.39% decline from 2019. GDP at purchaser's prices is the sum of gross value added by all resident producers in the economy plus any product taxes and minus any subsidies not included in\", 'score': 0.94815457, 'raw_content': None}, {'title': 'GDP quarterly national accounts, UK: October to December 2020', 'url': 'https://www.gov.uk/government/statistics/gdp-quarterly-national-accounts-uk-october-to-december-2020', 'content': 'GDP quarterly national accounts, UK: October to December 2020. Revised quarterly estimate of gross domestic product (GDP) for the UK. Uses additional data to provide a more precise indication of', 'score': 0.6981237, 'raw_content': None}, {'title': 'GDP quarterly national accounts, UK: October to December 2020', 'url': 'https://www.ons.gov.uk/economy/grossdomesticproductgdp/bulletins/quarterlynationalaccounts/octobertodecember2020', 'content': 'Non-financial corporations switched from a net lending position in Quarter 3 to a net borrowing position in Quarter 4; general government saw a decrease in their net borrowing position to 11.0% of GDP compared with 12.9% in Quarter 3.\\nGDP estimates for Quarter 4 2020 are subject to more uncertainty than usual as a result of the challenges we faced estimating GDP in the current conditions.\\n The report highlights the contrast between the first and second half of the year, noting that “COVID-19 dealt a huge blow to earnings expectations in the first half of 2020, triggering record levels of warnings” and adding that “by the second half, expectations adjusted, demand recovered, and profit warnings fell below average – even as COVID-19 restrictions increased in the final quarter”.\\n As the shape of the UK’s future statistical relationship with the EU becomes clearer over the coming period, the Office for National Statistics (ONS) is making preparations to assume responsibilities that as part of our membership of the EU, and during the transition period, were delegated to the statistical office of the EU, Eurostat. Construction output in Great Britain: January 2021\\nBulletin | Released 12 March 2021\\nShort-term measures of output by the construction industry in Great Britain and contracts awarded for new construction work in Great Britain.\\nIndex of Production, UK: January 2021\\nBulletin | Released 12 March 2021\\nMovements in the volume of production for the UK production industries: manufacturing, mining and quarrying, energy supply, and water and waste management. The implied deflator fell by 0.5% in Quarter 4 2020, which primarily reflects movements in the implied price change of government consumption which fell by a revised 3.1% – this was revised from the previous estimate of a 1.2% increase because of revisions to final consumption expenditure in health in the fourth quarter.', 'score': 0.61103386, 'raw_content': None}], 'response_time': 2.3})]}}\n",
      "----\n",
      "{'Researcher': {'messages': [AIMessage(content='', additional_kwargs={'tool_calls': [{'id': 'call_73z4', 'function': {'arguments': '{\"query\": \"nominal UK GDP 2023\"}', 'name': 'tavily_search_results_json'}, 'type': 'function'}]}, response_metadata={'token_usage': {'completion_tokens': 24, 'prompt_tokens': 3412, 'total_tokens': 3436, 'completion_time': 0.096, 'prompt_time': 0.597938646, 'queue_time': 0.004280726999999929, 'total_time': 0.693938646}, 'model_name': 'llama-3.2-90b-text-preview', 'system_fingerprint': 'fp_b6828be2c9', 'finish_reason': 'tool_calls', 'logprobs': None}, name='Researcher', id='run-c63e8fa8-debe-4376-a838-7a0cdf9a1f01-0', tool_calls=[{'name': 'tavily_search_results_json', 'args': {'query': 'nominal UK GDP 2023'}, 'id': 'call_73z4', 'type': 'tool_call'}], usage_metadata={'input_tokens': 3412, 'output_tokens': 24, 'total_tokens': 3436})], 'sender': 'Researcher'}}\n",
      "----\n",
      "{'call_tool': {'messages': [ToolMessage(content='[{\"url\": \"https://tradingeconomics.com/united-kingdom/gdp\", \"content\": \"Get the latest data and forecast for the Gross Domestic Product (GDP) in the United Kingdom, including historical trends, components, and comparison with other countries. The GDP in the UK was worth 3340.03 billion US dollars in 2023, according to the World Bank.\"}, {\"url\": \"https://www.ons.gov.uk/economy/grossdomesticproductgdp/compendium/unitedkingdomnationalaccountsthebluebook/2024/nationalaccountsataglance\", \"content\": \"Real gross domestic product (GDP) is estimated to have increased by 0.3% in 2023, following a recovery from the impacts of the coronavirus (COVID-19) pandemic over the two previous years (Figure 1). Data for the UK are the Office for National Statistics (ONS) measure of real gross domestic product (GDP). Figure 9: Real GDP per head fell in 2023 when compared with 2022 in six G10 economies, including the UK Data for the UK are the Office for National Statistics (ONS) measure of real gross domestic product (GDP) per head. Download this chart Figure 9: Real GDP per head fell in 2023 when compared with 2022 in six G10 economies, including the UK\"}, {\"url\": \"https://www.ons.gov.uk/economy/grossdomesticproductgdp/bulletins/gdpfirstquarterlyestimateuk/januarytomarch2023\", \"content\": \"Figure 5: There was a modest increase in private consumption in Quarter 1 (Jan to Mar) 2023, while there have been large movements in exports and imports\\\\nQ1 refers to Quarter 1 (Jan to Mar), Q2 refers to Quarter 2 (Apr to June), Q3 refers to Quarter 3 (July to Sept) and Q4 refers to Quarter 4 (Oct to Dec).\\\\n Figure 6: Excluding non-monetary gold, the UK had a trade deficit of 2.3% of nominal GDP in Quarter 1 (Jan to Mar) 2023\\\\nQ1 refers to Quarter 1 (Jan to Mar), Q2 refers to Quarter 2 (Apr to June), Q3 refers to Quarter 3 (July to Sept) and Q4 refers to Quarter 4 (Oct to Dec).\\\\n International comparisons\\\\nSource: GDP first quarterly estimate from the Office for National Statistics and Organisation for Economic Co-operation and Development\\\\nNotes\\\\n7. GDP first quarterly estimate data\\\\nGDP - data tables\\\\nDataset | Released 12 May 2023\\\\nAnnual and quarterly data for UK gross domestic product (GDP) estimates, in chained volume measures and current market prices.\\\\nGDP in chained volume measures - real-time database (ABMI)\\\\n Figure 3: Information and communication, and administrative and support service activities were the main positive contributors to services output growth in Quarter 1 2023\\\\nQ1 refers to Quarter 1 (Jan to Mar), Q2 refers to Quarter 2 (Apr to June), Q3 refers to Quarter 3 (July to Sept) and Q4 refers to Quarter 4 (Oct to Dec).\\\\n Important quality information\\\\nThere are common pitfalls in interpreting data series, and these include:\\\\nexpectations of accuracy and reliability in early estimates are often too high\\\\nrevisions are an inevitable consequence of the trade-off between timeliness and accuracy\\\\nearly estimates are based on incomplete data\\\\nVery few statistical revisions arise as a result of \\\\\"errors\\\\\" in the popular sense of the word.\"}]', name='tavily_search_results_json', tool_call_id='call_73z4', artifact={'query': 'nominal UK GDP 2023', 'follow_up_questions': None, 'answer': None, 'images': [], 'results': [{'title': 'United Kingdom GDP - TRADING ECONOMICS', 'url': 'https://tradingeconomics.com/united-kingdom/gdp', 'content': 'Get the latest data and forecast for the Gross Domestic Product (GDP) in the United Kingdom, including historical trends, components, and comparison with other countries. The GDP in the UK was worth 3340.03 billion US dollars in 2023, according to the World Bank.', 'score': 0.98166555, 'raw_content': None}, {'title': 'National accounts at a glance - Office for National Statistics', 'url': 'https://www.ons.gov.uk/economy/grossdomesticproductgdp/compendium/unitedkingdomnationalaccountsthebluebook/2024/nationalaccountsataglance', 'content': 'Real gross domestic product (GDP) is estimated to have increased by 0.3% in 2023, following a recovery from the impacts of the coronavirus (COVID-19) pandemic over the two previous years (Figure 1). Data for the UK are the Office for National Statistics (ONS) measure of real gross domestic product (GDP). Figure 9: Real GDP per head fell in 2023 when compared with 2022 in six G10 economies, including the UK Data for the UK are the Office for National Statistics (ONS) measure of real gross domestic product (GDP) per head. Download this chart Figure 9: Real GDP per head fell in 2023 when compared with 2022 in six G10 economies, including the UK', 'score': 0.97850823, 'raw_content': None}, {'title': 'GDP first quarterly estimate, UK: January to March 2023', 'url': 'https://www.ons.gov.uk/economy/grossdomesticproductgdp/bulletins/gdpfirstquarterlyestimateuk/januarytomarch2023', 'content': 'Figure 5: There was a modest increase in private consumption in Quarter 1 (Jan to Mar) 2023, while there have been large movements in exports and imports\\nQ1 refers to Quarter 1 (Jan to Mar), Q2 refers to Quarter 2 (Apr to June), Q3 refers to Quarter 3 (July to Sept) and Q4 refers to Quarter 4 (Oct to Dec).\\n Figure 6: Excluding non-monetary gold, the UK had a trade deficit of 2.3% of nominal GDP in Quarter 1 (Jan to Mar) 2023\\nQ1 refers to Quarter 1 (Jan to Mar), Q2 refers to Quarter 2 (Apr to June), Q3 refers to Quarter 3 (July to Sept) and Q4 refers to Quarter 4 (Oct to Dec).\\n International comparisons\\nSource: GDP first quarterly estimate from the Office for National Statistics and Organisation for Economic Co-operation and Development\\nNotes\\n7. GDP first quarterly estimate data\\nGDP - data tables\\nDataset | Released 12 May 2023\\nAnnual and quarterly data for UK gross domestic product (GDP) estimates, in chained volume measures and current market prices.\\nGDP in chained volume measures - real-time database (ABMI)\\n Figure 3: Information and communication, and administrative and support service activities were the main positive contributors to services output growth in Quarter 1 2023\\nQ1 refers to Quarter 1 (Jan to Mar), Q2 refers to Quarter 2 (Apr to June), Q3 refers to Quarter 3 (July to Sept) and Q4 refers to Quarter 4 (Oct to Dec).\\n Important quality information\\nThere are common pitfalls in interpreting data series, and these include:\\nexpectations of accuracy and reliability in early estimates are often too high\\nrevisions are an inevitable consequence of the trade-off between timeliness and accuracy\\nearly estimates are based on incomplete data\\nVery few statistical revisions arise as a result of \"errors\" in the popular sense of the word.', 'score': 0.9667888, 'raw_content': None}], 'response_time': 2.76})]}}\n",
      "----\n",
      "{'Researcher': {'messages': [AIMessage(content=\"United Kingdom's nominal GDP data over the past 5 years:\\n\\n 2023: $3340.03 billion \\n 2022: $3,088.84B\\n 2021: $3,141.51B\\n 2020: $2,697.81B\", additional_kwargs={}, response_metadata={'token_usage': {'completion_tokens': 60, 'prompt_tokens': 4200, 'total_tokens': 4260, 'completion_time': 0.24, 'prompt_time': 0.740931569, 'queue_time': 0.003983916000000032, 'total_time': 0.980931569}, 'model_name': 'llama-3.2-90b-text-preview', 'system_fingerprint': 'fp_b6828be2c9', 'finish_reason': 'stop', 'logprobs': None}, name='Researcher', id='run-a1bbe3fe-5f27-4031-8559-1f4182929fa3-0', usage_metadata={'input_tokens': 4200, 'output_tokens': 60, 'total_tokens': 4260})], 'sender': 'Researcher'}}\n",
      "----\n",
      "{'chart_generator': {'messages': [AIMessage(content='', additional_kwargs={}, response_metadata={'token_usage': {'completion_tokens': 1, 'prompt_tokens': 4263, 'total_tokens': 4264, 'completion_time': 0.004, 'prompt_time': 0.741142599, 'queue_time': -9223372037.595919, 'total_time': 0.745142599}, 'model_name': 'llama-3.2-90b-text-preview', 'system_fingerprint': 'fp_b3ae7e594e', 'finish_reason': 'stop', 'logprobs': None}, name='chart_generator', id='run-644c99e2-6caa-43a7-bace-f5e3416b8516-0', usage_metadata={'input_tokens': 4263, 'output_tokens': 1, 'total_tokens': 4264})], 'sender': 'chart_generator'}}\n",
      "----\n",
      "{'Researcher': {'messages': [AIMessage(content=\"FINAL ANSWER: United Kingdom's nominal GDP data over the past 5 years:\\n\\n 2023: $3340.03 billion \\n 2022: $3,088.84B\\n 2021: $3,141.51B\\n 2020: $2,697.81B\", additional_kwargs={}, response_metadata={'token_usage': {'completion_tokens': 64, 'prompt_tokens': 4264, 'total_tokens': 4328, 'completion_time': 0.256, 'prompt_time': 0.732869893, 'queue_time': 0.004384606999999985, 'total_time': 0.988869893}, 'model_name': 'llama-3.2-90b-text-preview', 'system_fingerprint': 'fp_5c5d1b5cfb', 'finish_reason': 'stop', 'logprobs': None}, name='Researcher', id='run-893820a2-bd78-488d-b311-2bf8cf16b476-0', usage_metadata={'input_tokens': 4264, 'output_tokens': 64, 'total_tokens': 4328})], 'sender': 'Researcher'}}\n",
      "----\n"
     ]
    }
   ],
   "source": [
    "events = graph.stream(\n",
    "    {\n",
    "        \"messages\": [\n",
    "            HumanMessage(\n",
    "                content=\"Fetch the UK's GDP over the past 5 years,\"\n",
    "                \" Once you done, finish.\"\n",
    "            )\n",
    "        ],\n",
    "    },\n",
    "    {\"recursion_limit\": 150},\n",
    ")\n",
    "for s in events:\n",
    "    print(s)\n",
    "    print(\"----\")"
   ]
  },
  {
   "cell_type": "code",
   "execution_count": null,
   "metadata": {
    "colab": {
     "base_uri": "https://localhost:8080/"
    },
    "id": "yfhsCvHr7fWo",
    "outputId": "80b43645-11a5-472d-c673-aa970688e4b9"
   },
   "outputs": [
    {
     "name": "stdout",
     "output_type": "stream",
     "text": [
      "FINAL ANSWER: United Kingdom's nominal GDP data over the past 5 years:\n",
      "\n",
      " 2023: $3340.03 billion \n",
      " 2022: $3,088.84B\n",
      " 2021: $3,141.51B\n",
      " 2020: $2,697.81B\n"
     ]
    }
   ],
   "source": [
    "print(\"FINAL ANSWER: United Kingdom's nominal GDP data over the past 5 years:\\n\\n 2023: $3340.03 billion \\n 2022: $3,088.84B\\n 2021: $3,141.51B\\n 2020: $2,697.81B\")"
   ]
  }
 ],
 "metadata": {
  "colab": {
   "provenance": []
  },
  "kernelspec": {
   "display_name": "Python 3 (ipykernel)",
   "language": "python",
   "name": "python3"
  },
  "language_info": {
   "codemirror_mode": {
    "name": "ipython",
    "version": 3
   },
   "file_extension": ".py",
   "mimetype": "text/x-python",
   "name": "python",
   "nbconvert_exporter": "python",
   "pygments_lexer": "ipython3",
   "version": "3.11.5"
  },
  "widgets": {
   "application/vnd.jupyter.widget-state+json": {
    "state": {},
    "version_major": 2,
    "version_minor": 0
   }
  }
 },
 "nbformat": 4,
 "nbformat_minor": 4
}
